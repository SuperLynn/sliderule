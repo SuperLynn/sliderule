{
 "cells": [
  {
   "cell_type": "code",
   "execution_count": 1,
   "metadata": {
    "collapsed": true
   },
   "outputs": [],
   "source": [
    "\n",
    "\"\"\"\n",
    "    starter code for the evaluation mini-project\n",
    "    start by copying your trained/tested POI identifier from\n",
    "    that you built in the validation mini-project\n",
    "    the second step toward building your POI identifier!\n",
    "    start by loading/formatting the data\n",
    "\"\"\"\n",
    "\n",
    "import pickle\n",
    "import sys\n",
    "sys.path.append(\"../tools/\")\n",
    "from feature_format import featureFormat, targetFeatureSplit\n",
    "\n",
    "data_dict = pickle.load(open(\"../final_project/final_project_dataset.pkl\", \"rb\") )\n",
    "\n",
    "### add more features to features_list!\n",
    "features_list = [\"poi\", \"salary\"]\n",
    "data = featureFormat(data_dict, features_list)\n",
    "labels, features = targetFeatureSplit(data)"
   ]
  },
  {
   "cell_type": "code",
   "execution_count": 2,
   "metadata": {
    "collapsed": true
   },
   "outputs": [],
   "source": [
    "### your code goes here \n",
    "\n",
    "from sklearn import tree\n",
    "from sklearn.metrics import accuracy_score, precision_score, recall_score, f1_score\n",
    "from sklearn import cross_validation\n",
    "\n",
    "# train model\n",
    "clf = tree.DecisionTreeClassifier()\n",
    "\n",
    "# split the data into training and test data sets\n",
    "features_train, features_test, labels_train, labels_test = cross_validation.train_test_split(features, labels, test_size=0.3, \n",
    "                                      random_state=42)"
   ]
  },
  {
   "cell_type": "code",
   "execution_count": 4,
   "metadata": {
    "collapsed": false
   },
   "outputs": [
    {
     "name": "stdout",
     "output_type": "stream",
     "text": [
      "Accuracy:  0.689655172414\n",
      "Precision:  0.142857142857\n",
      "Recall:  0.25\n",
      "F1:  0.181818181818\n"
     ]
    }
   ],
   "source": [
    "# fit the decision tree to training data set\n",
    "clf.fit(features_train, labels_train)\n",
    "\n",
    "# predict labels\n",
    "labels_pred = clf.predict(features_test)\n",
    "\n",
    "# calculate accuracy\n",
    "accuracy = accuracy_score(labels_test, labels_pred)\n",
    "print ('Accuracy: ', accuracy)\n",
    "print ('Precision: ', precision_score(labels_test, labels_pred))\n",
    "print ('Recall: ', recall_score(labels_test, labels_pred))\n",
    "print ('F1: ', f1_score(labels_test, labels_pred))"
   ]
  },
  {
   "cell_type": "code",
   "execution_count": null,
   "metadata": {
    "collapsed": true
   },
   "outputs": [],
   "source": []
  }
 ],
 "metadata": {
  "kernelspec": {
   "display_name": "Python 3",
   "language": "python",
   "name": "python3"
  },
  "language_info": {
   "codemirror_mode": {
    "name": "ipython",
    "version": 3
   },
   "file_extension": ".py",
   "mimetype": "text/x-python",
   "name": "python",
   "nbconvert_exporter": "python",
   "pygments_lexer": "ipython3",
   "version": "3.4.3"
  }
 },
 "nbformat": 4,
 "nbformat_minor": 0
}
