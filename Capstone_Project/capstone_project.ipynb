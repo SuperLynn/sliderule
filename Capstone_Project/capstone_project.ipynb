{
 "cells": [
  {
   "cell_type": "markdown",
   "metadata": {},
   "source": [
    "## THE OBJECTIVE OF THIS STUDY IS TO PREDICT WHETHER A PERSON WILL SUBSCRIBE FOR A TERM DEPOSIT OR NOT\n",
    "\n",
    "### A. Objective of a bank\n",
    "The objective of a bank is to undertake a telemarketing campaign to attract clients to subscribe for term-deposit and the campaign should be economically feasible. The first step will be to identify prospective clients who are more likely to subscribe for the term-deposit. Inorder to identify the outcome, we need to predict whether a client contacted under this campaign will subscribe or not i.e.(Yes/No as (1/0)) based on historical data where such similar campaign was undertaken.\n",
    "\n",
    "For each observation, four different events can occur when we try to predict:\n",
    "- case 1: predicted as 1 which are actually 1. Also known as True Positives.\n",
    "- case 2: predicted as 1 which are actually 0. Also known as False Positives.Also known as Type I error.\n",
    "- case 3: predicted as 0 which are actually 0. Also known as True Negatives.\n",
    "- case 4: predicted as 0 which are actually 1. Also known as False Negatives.Also known as Type II error.\n",
    "\n",
    "From the perspective of a bank,the cost of this campaign for each call made is C dollars. And the revenue earned for  each call where the client subscribes is R dollars. Assuming that R = 2C.so the payoff for a call under each of the cases are:\n",
    "- case 1: R-C\n",
    "- case 2: -C\n",
    "- case 3: 0\n",
    "- case 4: -(R-C)\n",
    "\n",
    "So the best case scenario is not only to increase the term-deposit subscriber base but also to undertake this campaign such that the cost of this campaign do not outweigh the economic benefit i.e. a bank would like to undertake this campaign to a scale where it will not have an operating loss. In order to do so the bank need a model which can identify case 1 with greater accuracy.To reduce  instances for case 2(Type I error) as making a call will not result in subscription. we also need to reduce case 4(Type II error) so that the opportunity cost of loosing out of prospective client is minimized. \n",
    "\n",
    "### B. Purpose of the model\n",
    "To meet the objective of a bank we need to select a model that fits the data well.Following are the steps that will be considered:\n",
    "- To arrange the dataset into training set and testing set.\n",
    "- To fit and predict on different class of models.\n",
    "- To measure different evaluation metrics inorder to identify the best model.\n",
    "- Select the set of models which have higher precision score. For these models, change the cut-off class probability criterion such that Type II error can be reduced at the cost of Type I error until the precision score for category '1' comes close to .50 which means a bank will have zero-profit situation from this campaign. "
   ]
  },
  {
   "cell_type": "code",
   "execution_count": 1,
   "metadata": {
    "collapsed": true
   },
   "outputs": [],
   "source": [
    "%matplotlib inline\n",
    "import pandas as pd\n",
    "import numpy as np\n",
    "import matplotlib.pyplot as plt"
   ]
  },
  {
   "cell_type": "code",
   "execution_count": 2,
   "metadata": {
    "collapsed": false
   },
   "outputs": [
    {
     "data": {
      "text/html": [
       "<div>\n",
       "<table border=\"1\" class=\"dataframe\">\n",
       "  <thead>\n",
       "    <tr style=\"text-align: right;\">\n",
       "      <th></th>\n",
       "      <th>age</th>\n",
       "      <th>job</th>\n",
       "      <th>marital</th>\n",
       "      <th>education</th>\n",
       "      <th>default</th>\n",
       "      <th>housing</th>\n",
       "      <th>loan</th>\n",
       "      <th>contact</th>\n",
       "      <th>month</th>\n",
       "      <th>day_of_week</th>\n",
       "      <th>...</th>\n",
       "      <th>campaign</th>\n",
       "      <th>pdays</th>\n",
       "      <th>previous</th>\n",
       "      <th>poutcome</th>\n",
       "      <th>emp.var.rate</th>\n",
       "      <th>cons.price.idx</th>\n",
       "      <th>cons.conf.idx</th>\n",
       "      <th>euribor3m</th>\n",
       "      <th>nr.employed</th>\n",
       "      <th>y</th>\n",
       "    </tr>\n",
       "  </thead>\n",
       "  <tbody>\n",
       "    <tr>\n",
       "      <th>0</th>\n",
       "      <td>56</td>\n",
       "      <td>housemaid</td>\n",
       "      <td>married</td>\n",
       "      <td>basic.4y</td>\n",
       "      <td>no</td>\n",
       "      <td>no</td>\n",
       "      <td>no</td>\n",
       "      <td>telephone</td>\n",
       "      <td>may</td>\n",
       "      <td>mon</td>\n",
       "      <td>...</td>\n",
       "      <td>1</td>\n",
       "      <td>999</td>\n",
       "      <td>0</td>\n",
       "      <td>nonexistent</td>\n",
       "      <td>1.1</td>\n",
       "      <td>93.994</td>\n",
       "      <td>-36.4</td>\n",
       "      <td>4.857</td>\n",
       "      <td>5191</td>\n",
       "      <td>no</td>\n",
       "    </tr>\n",
       "    <tr>\n",
       "      <th>1</th>\n",
       "      <td>57</td>\n",
       "      <td>services</td>\n",
       "      <td>married</td>\n",
       "      <td>high.school</td>\n",
       "      <td>unknown</td>\n",
       "      <td>no</td>\n",
       "      <td>no</td>\n",
       "      <td>telephone</td>\n",
       "      <td>may</td>\n",
       "      <td>mon</td>\n",
       "      <td>...</td>\n",
       "      <td>1</td>\n",
       "      <td>999</td>\n",
       "      <td>0</td>\n",
       "      <td>nonexistent</td>\n",
       "      <td>1.1</td>\n",
       "      <td>93.994</td>\n",
       "      <td>-36.4</td>\n",
       "      <td>4.857</td>\n",
       "      <td>5191</td>\n",
       "      <td>no</td>\n",
       "    </tr>\n",
       "    <tr>\n",
       "      <th>2</th>\n",
       "      <td>37</td>\n",
       "      <td>services</td>\n",
       "      <td>married</td>\n",
       "      <td>high.school</td>\n",
       "      <td>no</td>\n",
       "      <td>yes</td>\n",
       "      <td>no</td>\n",
       "      <td>telephone</td>\n",
       "      <td>may</td>\n",
       "      <td>mon</td>\n",
       "      <td>...</td>\n",
       "      <td>1</td>\n",
       "      <td>999</td>\n",
       "      <td>0</td>\n",
       "      <td>nonexistent</td>\n",
       "      <td>1.1</td>\n",
       "      <td>93.994</td>\n",
       "      <td>-36.4</td>\n",
       "      <td>4.857</td>\n",
       "      <td>5191</td>\n",
       "      <td>no</td>\n",
       "    </tr>\n",
       "    <tr>\n",
       "      <th>3</th>\n",
       "      <td>40</td>\n",
       "      <td>admin.</td>\n",
       "      <td>married</td>\n",
       "      <td>basic.6y</td>\n",
       "      <td>no</td>\n",
       "      <td>no</td>\n",
       "      <td>no</td>\n",
       "      <td>telephone</td>\n",
       "      <td>may</td>\n",
       "      <td>mon</td>\n",
       "      <td>...</td>\n",
       "      <td>1</td>\n",
       "      <td>999</td>\n",
       "      <td>0</td>\n",
       "      <td>nonexistent</td>\n",
       "      <td>1.1</td>\n",
       "      <td>93.994</td>\n",
       "      <td>-36.4</td>\n",
       "      <td>4.857</td>\n",
       "      <td>5191</td>\n",
       "      <td>no</td>\n",
       "    </tr>\n",
       "    <tr>\n",
       "      <th>4</th>\n",
       "      <td>56</td>\n",
       "      <td>services</td>\n",
       "      <td>married</td>\n",
       "      <td>high.school</td>\n",
       "      <td>no</td>\n",
       "      <td>no</td>\n",
       "      <td>yes</td>\n",
       "      <td>telephone</td>\n",
       "      <td>may</td>\n",
       "      <td>mon</td>\n",
       "      <td>...</td>\n",
       "      <td>1</td>\n",
       "      <td>999</td>\n",
       "      <td>0</td>\n",
       "      <td>nonexistent</td>\n",
       "      <td>1.1</td>\n",
       "      <td>93.994</td>\n",
       "      <td>-36.4</td>\n",
       "      <td>4.857</td>\n",
       "      <td>5191</td>\n",
       "      <td>no</td>\n",
       "    </tr>\n",
       "  </tbody>\n",
       "</table>\n",
       "<p>5 rows × 21 columns</p>\n",
       "</div>"
      ],
      "text/plain": [
       "   age        job  marital    education  default housing loan    contact  \\\n",
       "0   56  housemaid  married     basic.4y       no      no   no  telephone   \n",
       "1   57   services  married  high.school  unknown      no   no  telephone   \n",
       "2   37   services  married  high.school       no     yes   no  telephone   \n",
       "3   40     admin.  married     basic.6y       no      no   no  telephone   \n",
       "4   56   services  married  high.school       no      no  yes  telephone   \n",
       "\n",
       "  month day_of_week ...  campaign  pdays  previous     poutcome emp.var.rate  \\\n",
       "0   may         mon ...         1    999         0  nonexistent          1.1   \n",
       "1   may         mon ...         1    999         0  nonexistent          1.1   \n",
       "2   may         mon ...         1    999         0  nonexistent          1.1   \n",
       "3   may         mon ...         1    999         0  nonexistent          1.1   \n",
       "4   may         mon ...         1    999         0  nonexistent          1.1   \n",
       "\n",
       "   cons.price.idx  cons.conf.idx  euribor3m  nr.employed   y  \n",
       "0          93.994          -36.4      4.857         5191  no  \n",
       "1          93.994          -36.4      4.857         5191  no  \n",
       "2          93.994          -36.4      4.857         5191  no  \n",
       "3          93.994          -36.4      4.857         5191  no  \n",
       "4          93.994          -36.4      4.857         5191  no  \n",
       "\n",
       "[5 rows x 21 columns]"
      ]
     },
     "execution_count": 2,
     "metadata": {},
     "output_type": "execute_result"
    }
   ],
   "source": [
    "# import csv file into pandas\n",
    "data = pd.read_csv('bank-additional-full.csv',sep = ';')\n",
    "data.head(5)"
   ]
  },
  {
   "cell_type": "code",
   "execution_count": 3,
   "metadata": {
    "collapsed": false,
    "scrolled": true
   },
   "outputs": [
    {
     "name": "stdout",
     "output_type": "stream",
     "text": [
      "<class 'pandas.core.frame.DataFrame'>\n",
      "Int64Index: 41188 entries, 0 to 41187\n",
      "Data columns (total 21 columns):\n",
      "age               41188 non-null int64\n",
      "job               41188 non-null object\n",
      "marital           41188 non-null object\n",
      "education         41188 non-null object\n",
      "default           41188 non-null object\n",
      "housing           41188 non-null object\n",
      "loan              41188 non-null object\n",
      "contact           41188 non-null object\n",
      "month             41188 non-null object\n",
      "day_of_week       41188 non-null object\n",
      "duration          41188 non-null int64\n",
      "campaign          41188 non-null int64\n",
      "pdays             41188 non-null int64\n",
      "previous          41188 non-null int64\n",
      "poutcome          41188 non-null object\n",
      "emp.var.rate      41188 non-null float64\n",
      "cons.price.idx    41188 non-null float64\n",
      "cons.conf.idx     41188 non-null float64\n",
      "euribor3m         41188 non-null float64\n",
      "nr.employed       41188 non-null float64\n",
      "y                 41188 non-null object\n",
      "dtypes: float64(5), int64(5), object(11)\n",
      "memory usage: 6.9+ MB\n"
     ]
    }
   ],
   "source": [
    "# variable information of this dataset\n",
    "data.info()"
   ]
  },
  {
   "cell_type": "markdown",
   "metadata": {
    "collapsed": false
   },
   "source": [
    "### II. Preprocessing of data\n",
    "\n",
    "In this section, i will perform the following preprocessing steps\n",
    "- To change the variables from string to dummy variable. Along with that i'm grouping the number of distinct items in the variables.\n",
    "- To remove unknown group in selected variables.\n",
    "- To dentify the relevant independent variables based on their correlation with the dependent variable.Also    drop the features which has high degree of collinearity with other.I did it manually as the number of features are small. Similar objective can be achieved using SelectKBest and pca procedure.\n",
    "- To scale the data which has a slewed distribution.It is important for distance-based classifier such as KNN and SVC "
   ]
  },
  {
   "cell_type": "code",
   "execution_count": 4,
   "metadata": {
    "collapsed": true
   },
   "outputs": [],
   "source": [
    "# To modify the names of the variables in the dataset\n",
    "\n",
    "#To modify variable job\n",
    "data = data.replace({'job':['admin.','blue-collar','technician','services','management','retired','entrepreneur',\n",
    "                           'self-employed','housemaid','unemployed','student','unknown']}  \n",
    ",{'job':['employed','employed','employed','employed','employed','employed','employed',\n",
    "                           'employed','employed','unemployed','unemployed','unemployed']})\n",
    "data.job.value_counts()\n",
    "d1 = pd.get_dummies(data['job'])\n",
    "d1\n",
    "\n",
    "data1 = pd.concat([data, d1], axis=1)      \n",
    "data1.drop(['job','unemployed'], inplace=True, axis=1)\n",
    "data1.head()\n",
    "\n",
    "#To modify variable marital\n",
    "data1 = data1.replace({'marital':['married','single','divorced','unknown']}  \n",
    ",{'marital':['married','unmarried','unmarried','unmarried']})\n",
    "data1.marital.value_counts()\n",
    "d1 = pd.get_dummies(data1['marital'])\n",
    "d1\n",
    "\n",
    "data2 = pd.concat([data1, d1], axis=1)      \n",
    "data2.drop(['marital','unmarried'], inplace=True, axis=1)\n",
    "data2.head()\n",
    "\n",
    "#To modify variable education\n",
    "data2 = data2.replace({'education':['university.degree','high.school','basic.9y','professional.course'\n",
    "                                   ,'basic.4y','basic.6y','unknown','illiterate']}  \n",
    ",{'education':['university','non-university','non-university','non-university'\n",
    "                                   ,'non-university','non-university','non-university','non-university']})\n",
    "d1 = pd.get_dummies(data2['education'])\n",
    "d1\n",
    "\n",
    "data3 = pd.concat([data2, d1], axis=1)      \n",
    "data3.drop(['education','non-university'], inplace=True, axis=1)"
   ]
  },
  {
   "cell_type": "code",
   "execution_count": 5,
   "metadata": {
    "collapsed": false
   },
   "outputs": [],
   "source": [
    "data4 = data3[(data3.housing != 'unknown')&(data3.loan != 'unknown')&(data3.default != 'unknown')]\n",
    "data4.default.value_counts()\n",
    "\n",
    "#To get dummy for default\n",
    "data4 = data4.replace({'default':['yes','no']}  \n",
    ",{'default':['yes','no_default']})\n",
    "d1 = pd.get_dummies(data4['default'])\n",
    "d1\n",
    "data1 = pd.concat([data4, d1], axis=1)      \n",
    "data1.drop(['default','yes'], inplace=True, axis=1)\n",
    "\n",
    "#To get dummy for housing\n",
    "data1 = data1.replace({'housing':['yes','no']}  \n",
    ",{'housing':['yes','no_housing']})\n",
    "d1 = pd.get_dummies(data1['housing'])\n",
    "d1\n",
    "data2 = pd.concat([data1, d1], axis=1)      \n",
    "data2.drop(['housing','yes'], inplace=True, axis=1)\n",
    "\n",
    "#To get dummy for loan\n",
    "data2 = data2.replace({'loan':['yes','no']}  \n",
    ",{'loan':['yes','no_loan']})\n",
    "d1 = pd.get_dummies(data2['loan'])\n",
    "d1\n",
    "data3 = pd.concat([data2, d1], axis=1)      \n",
    "data3.drop(['loan','yes'], inplace=True, axis=1)\n"
   ]
  },
  {
   "cell_type": "code",
   "execution_count": 6,
   "metadata": {
    "collapsed": false
   },
   "outputs": [
    {
     "data": {
      "text/html": [
       "<div>\n",
       "<table border=\"1\" class=\"dataframe\">\n",
       "  <thead>\n",
       "    <tr style=\"text-align: right;\">\n",
       "      <th></th>\n",
       "      <th>age</th>\n",
       "      <th>contact</th>\n",
       "      <th>month</th>\n",
       "      <th>duration</th>\n",
       "      <th>campaign</th>\n",
       "      <th>pdays</th>\n",
       "      <th>previous</th>\n",
       "      <th>emp.var.rate</th>\n",
       "      <th>cons.price.idx</th>\n",
       "      <th>cons.conf.idx</th>\n",
       "      <th>...</th>\n",
       "      <th>university</th>\n",
       "      <th>no_default</th>\n",
       "      <th>no_housing</th>\n",
       "      <th>no_loan</th>\n",
       "      <th>mon</th>\n",
       "      <th>thu</th>\n",
       "      <th>tue</th>\n",
       "      <th>wed</th>\n",
       "      <th>nonexistent</th>\n",
       "      <th>success</th>\n",
       "    </tr>\n",
       "  </thead>\n",
       "  <tbody>\n",
       "    <tr>\n",
       "      <th>0</th>\n",
       "      <td>56</td>\n",
       "      <td>telephone</td>\n",
       "      <td>may</td>\n",
       "      <td>261</td>\n",
       "      <td>1</td>\n",
       "      <td>999</td>\n",
       "      <td>0</td>\n",
       "      <td>1.1</td>\n",
       "      <td>93.994</td>\n",
       "      <td>-36.4</td>\n",
       "      <td>...</td>\n",
       "      <td>0</td>\n",
       "      <td>1</td>\n",
       "      <td>1</td>\n",
       "      <td>1</td>\n",
       "      <td>1</td>\n",
       "      <td>0</td>\n",
       "      <td>0</td>\n",
       "      <td>0</td>\n",
       "      <td>1</td>\n",
       "      <td>0</td>\n",
       "    </tr>\n",
       "    <tr>\n",
       "      <th>2</th>\n",
       "      <td>37</td>\n",
       "      <td>telephone</td>\n",
       "      <td>may</td>\n",
       "      <td>226</td>\n",
       "      <td>1</td>\n",
       "      <td>999</td>\n",
       "      <td>0</td>\n",
       "      <td>1.1</td>\n",
       "      <td>93.994</td>\n",
       "      <td>-36.4</td>\n",
       "      <td>...</td>\n",
       "      <td>0</td>\n",
       "      <td>1</td>\n",
       "      <td>0</td>\n",
       "      <td>1</td>\n",
       "      <td>1</td>\n",
       "      <td>0</td>\n",
       "      <td>0</td>\n",
       "      <td>0</td>\n",
       "      <td>1</td>\n",
       "      <td>0</td>\n",
       "    </tr>\n",
       "    <tr>\n",
       "      <th>3</th>\n",
       "      <td>40</td>\n",
       "      <td>telephone</td>\n",
       "      <td>may</td>\n",
       "      <td>151</td>\n",
       "      <td>1</td>\n",
       "      <td>999</td>\n",
       "      <td>0</td>\n",
       "      <td>1.1</td>\n",
       "      <td>93.994</td>\n",
       "      <td>-36.4</td>\n",
       "      <td>...</td>\n",
       "      <td>0</td>\n",
       "      <td>1</td>\n",
       "      <td>1</td>\n",
       "      <td>1</td>\n",
       "      <td>1</td>\n",
       "      <td>0</td>\n",
       "      <td>0</td>\n",
       "      <td>0</td>\n",
       "      <td>1</td>\n",
       "      <td>0</td>\n",
       "    </tr>\n",
       "    <tr>\n",
       "      <th>4</th>\n",
       "      <td>56</td>\n",
       "      <td>telephone</td>\n",
       "      <td>may</td>\n",
       "      <td>307</td>\n",
       "      <td>1</td>\n",
       "      <td>999</td>\n",
       "      <td>0</td>\n",
       "      <td>1.1</td>\n",
       "      <td>93.994</td>\n",
       "      <td>-36.4</td>\n",
       "      <td>...</td>\n",
       "      <td>0</td>\n",
       "      <td>1</td>\n",
       "      <td>1</td>\n",
       "      <td>0</td>\n",
       "      <td>1</td>\n",
       "      <td>0</td>\n",
       "      <td>0</td>\n",
       "      <td>0</td>\n",
       "      <td>1</td>\n",
       "      <td>0</td>\n",
       "    </tr>\n",
       "    <tr>\n",
       "      <th>6</th>\n",
       "      <td>59</td>\n",
       "      <td>telephone</td>\n",
       "      <td>may</td>\n",
       "      <td>139</td>\n",
       "      <td>1</td>\n",
       "      <td>999</td>\n",
       "      <td>0</td>\n",
       "      <td>1.1</td>\n",
       "      <td>93.994</td>\n",
       "      <td>-36.4</td>\n",
       "      <td>...</td>\n",
       "      <td>0</td>\n",
       "      <td>1</td>\n",
       "      <td>1</td>\n",
       "      <td>1</td>\n",
       "      <td>1</td>\n",
       "      <td>0</td>\n",
       "      <td>0</td>\n",
       "      <td>0</td>\n",
       "      <td>1</td>\n",
       "      <td>0</td>\n",
       "    </tr>\n",
       "  </tbody>\n",
       "</table>\n",
       "<p>5 rows × 25 columns</p>\n",
       "</div>"
      ],
      "text/plain": [
       "   age    contact month  duration  campaign  pdays  previous  emp.var.rate  \\\n",
       "0   56  telephone   may       261         1    999         0           1.1   \n",
       "2   37  telephone   may       226         1    999         0           1.1   \n",
       "3   40  telephone   may       151         1    999         0           1.1   \n",
       "4   56  telephone   may       307         1    999         0           1.1   \n",
       "6   59  telephone   may       139         1    999         0           1.1   \n",
       "\n",
       "   cons.price.idx  cons.conf.idx   ...     university  no_default no_housing  \\\n",
       "0          93.994          -36.4   ...              0           1          1   \n",
       "2          93.994          -36.4   ...              0           1          0   \n",
       "3          93.994          -36.4   ...              0           1          1   \n",
       "4          93.994          -36.4   ...              0           1          1   \n",
       "6          93.994          -36.4   ...              0           1          1   \n",
       "\n",
       "   no_loan  mon  thu  tue  wed  nonexistent  success  \n",
       "0        1    1    0    0    0            1        0  \n",
       "2        1    1    0    0    0            1        0  \n",
       "3        1    1    0    0    0            1        0  \n",
       "4        0    1    0    0    0            1        0  \n",
       "6        1    1    0    0    0            1        0  \n",
       "\n",
       "[5 rows x 25 columns]"
      ]
     },
     "execution_count": 6,
     "metadata": {},
     "output_type": "execute_result"
    }
   ],
   "source": [
    "# To add dummy for 'day of the week' variable\n",
    "d1 = pd.get_dummies(data3['day_of_week'])\n",
    "d1\n",
    "data1 = pd.concat([data3, d1], axis=1)      \n",
    "data1.drop(['day_of_week','fri'], inplace=True, axis=1)\n",
    "data1.head()\n",
    "\n",
    "# To add dummy for 'outcome of previous campaign' variable\n",
    "d1 = pd.get_dummies(data1['poutcome'])\n",
    "d1\n",
    "data2 = pd.concat([data1, d1], axis=1)      \n",
    "data2.drop(['poutcome','failure'], inplace=True, axis=1)\n",
    "data2.head()"
   ]
  },
  {
   "cell_type": "code",
   "execution_count": 29,
   "metadata": {
    "collapsed": false
   },
   "outputs": [
    {
     "name": "stdout",
     "output_type": "stream",
     "text": [
      "<class 'pandas.core.frame.DataFrame'>\n",
      "Int64Index: 31828 entries, 0 to 41187\n",
      "Data columns (total 20 columns):\n",
      "age               31828 non-null int64\n",
      "campaign          31828 non-null int64\n",
      "pdays             31828 non-null int64\n",
      "previous          31828 non-null int64\n",
      "cons.price.idx    31828 non-null float64\n",
      "cons.conf.idx     31828 non-null float64\n",
      "euribor3m         31828 non-null float64\n",
      "y                 31828 non-null int32\n",
      "employed          31828 non-null float64\n",
      "married           31828 non-null float64\n",
      "university        31828 non-null float64\n",
      "no_default        31828 non-null float64\n",
      "no_housing        31828 non-null float64\n",
      "no_loan           31828 non-null float64\n",
      "mon               31828 non-null float64\n",
      "thu               31828 non-null float64\n",
      "tue               31828 non-null float64\n",
      "wed               31828 non-null float64\n",
      "nonexistent       31828 non-null float64\n",
      "success           31828 non-null float64\n",
      "dtypes: float64(15), int32(1), int64(4)\n",
      "memory usage: 5.0 MB\n"
     ]
    }
   ],
   "source": [
    "data2.info()"
   ]
  },
  {
   "cell_type": "code",
   "execution_count": 8,
   "metadata": {
    "collapsed": false
   },
   "outputs": [
    {
     "data": {
      "text/plain": [
       "0    27727\n",
       "1     4101\n",
       "dtype: int64"
      ]
     },
     "execution_count": 8,
     "metadata": {},
     "output_type": "execute_result"
    }
   ],
   "source": [
    "from sklearn.preprocessing import LabelEncoder\n",
    "# Discreet value integer encoder\n",
    "label_encoder = LabelEncoder()\n",
    "## To change the variable from string to integer values\n",
    "for heading in ('y'):\n",
    "    data2[heading] = label_encoder.fit_transform(data2[heading])   \n",
    "    \n",
    "data2.y.value_counts()"
   ]
  },
  {
   "cell_type": "code",
   "execution_count": 10,
   "metadata": {
    "collapsed": false
   },
   "outputs": [
    {
     "data": {
      "text/html": [
       "<div>\n",
       "<table border=\"1\" class=\"dataframe\">\n",
       "  <thead>\n",
       "    <tr style=\"text-align: right;\">\n",
       "      <th></th>\n",
       "      <th>age</th>\n",
       "      <th>duration</th>\n",
       "      <th>campaign</th>\n",
       "      <th>pdays</th>\n",
       "      <th>previous</th>\n",
       "      <th>emp.var.rate</th>\n",
       "      <th>cons.price.idx</th>\n",
       "      <th>cons.conf.idx</th>\n",
       "      <th>euribor3m</th>\n",
       "      <th>nr.employed</th>\n",
       "      <th>...</th>\n",
       "      <th>university</th>\n",
       "      <th>no_default</th>\n",
       "      <th>no_housing</th>\n",
       "      <th>no_loan</th>\n",
       "      <th>mon</th>\n",
       "      <th>thu</th>\n",
       "      <th>tue</th>\n",
       "      <th>wed</th>\n",
       "      <th>nonexistent</th>\n",
       "      <th>success</th>\n",
       "    </tr>\n",
       "  </thead>\n",
       "  <tbody>\n",
       "    <tr>\n",
       "      <th>age</th>\n",
       "      <td>1.000000</td>\n",
       "      <td>0.006673</td>\n",
       "      <td>-0.003552</td>\n",
       "      <td>-0.047451</td>\n",
       "      <td>0.045727</td>\n",
       "      <td>-0.050516</td>\n",
       "      <td>-0.037416</td>\n",
       "      <td>0.128179</td>\n",
       "      <td>-0.036070</td>\n",
       "      <td>-0.063312</td>\n",
       "      <td>...</td>\n",
       "      <td>-0.055680</td>\n",
       "      <td>-0.002952</td>\n",
       "      <td>-0.001855</td>\n",
       "      <td>0.010697</td>\n",
       "      <td>0.017644</td>\n",
       "      <td>-0.016345</td>\n",
       "      <td>0.017335</td>\n",
       "      <td>-0.021746</td>\n",
       "      <td>-0.040143</td>\n",
       "      <td>0.048523</td>\n",
       "    </tr>\n",
       "    <tr>\n",
       "      <th>duration</th>\n",
       "      <td>0.006673</td>\n",
       "      <td>1.000000</td>\n",
       "      <td>-0.069414</td>\n",
       "      <td>-0.049664</td>\n",
       "      <td>0.022038</td>\n",
       "      <td>-0.024539</td>\n",
       "      <td>0.011985</td>\n",
       "      <td>-0.008426</td>\n",
       "      <td>-0.030549</td>\n",
       "      <td>-0.042165</td>\n",
       "      <td>...</td>\n",
       "      <td>-0.014160</td>\n",
       "      <td>0.005820</td>\n",
       "      <td>0.005556</td>\n",
       "      <td>-0.006590</td>\n",
       "      <td>-0.024661</td>\n",
       "      <td>0.019383</td>\n",
       "      <td>0.001502</td>\n",
       "      <td>0.016659</td>\n",
       "      <td>-0.012995</td>\n",
       "      <td>0.047409</td>\n",
       "    </tr>\n",
       "    <tr>\n",
       "      <th>campaign</th>\n",
       "      <td>-0.003552</td>\n",
       "      <td>-0.069414</td>\n",
       "      <td>1.000000</td>\n",
       "      <td>0.055095</td>\n",
       "      <td>-0.081586</td>\n",
       "      <td>0.157996</td>\n",
       "      <td>0.126974</td>\n",
       "      <td>-0.015297</td>\n",
       "      <td>0.141503</td>\n",
       "      <td>0.149157</td>\n",
       "      <td>...</td>\n",
       "      <td>0.003045</td>\n",
       "      <td>0.004247</td>\n",
       "      <td>0.010645</td>\n",
       "      <td>-0.007080</td>\n",
       "      <td>0.012115</td>\n",
       "      <td>0.010519</td>\n",
       "      <td>-0.027307</td>\n",
       "      <td>-0.021348</td>\n",
       "      <td>0.090356</td>\n",
       "      <td>-0.053799</td>\n",
       "    </tr>\n",
       "    <tr>\n",
       "      <th>pdays</th>\n",
       "      <td>-0.047451</td>\n",
       "      <td>-0.049664</td>\n",
       "      <td>0.055095</td>\n",
       "      <td>1.000000</td>\n",
       "      <td>-0.595253</td>\n",
       "      <td>0.270975</td>\n",
       "      <td>0.066006</td>\n",
       "      <td>-0.104194</td>\n",
       "      <td>0.299676</td>\n",
       "      <td>0.375674</td>\n",
       "      <td>...</td>\n",
       "      <td>-0.028634</td>\n",
       "      <td>-0.002097</td>\n",
       "      <td>0.008941</td>\n",
       "      <td>-0.001108</td>\n",
       "      <td>0.002393</td>\n",
       "      <td>-0.008347</td>\n",
       "      <td>-0.006949</td>\n",
       "      <td>0.000384</td>\n",
       "      <td>0.504749</td>\n",
       "      <td>-0.951058</td>\n",
       "    </tr>\n",
       "    <tr>\n",
       "      <th>previous</th>\n",
       "      <td>0.045727</td>\n",
       "      <td>0.022038</td>\n",
       "      <td>-0.081586</td>\n",
       "      <td>-0.595253</td>\n",
       "      <td>1.000000</td>\n",
       "      <td>-0.403229</td>\n",
       "      <td>-0.170472</td>\n",
       "      <td>-0.022335</td>\n",
       "      <td>-0.441080</td>\n",
       "      <td>-0.492733</td>\n",
       "      <td>...</td>\n",
       "      <td>0.015514</td>\n",
       "      <td>-0.002462</td>\n",
       "      <td>-0.021801</td>\n",
       "      <td>0.002590</td>\n",
       "      <td>-0.002052</td>\n",
       "      <td>0.003481</td>\n",
       "      <td>0.002669</td>\n",
       "      <td>-0.004924</td>\n",
       "      <td>-0.873080</td>\n",
       "      <td>0.531284</td>\n",
       "    </tr>\n",
       "    <tr>\n",
       "      <th>emp.var.rate</th>\n",
       "      <td>-0.050516</td>\n",
       "      <td>-0.024539</td>\n",
       "      <td>0.157996</td>\n",
       "      <td>0.270975</td>\n",
       "      <td>-0.403229</td>\n",
       "      <td>1.000000</td>\n",
       "      <td>0.765002</td>\n",
       "      <td>0.142321</td>\n",
       "      <td>0.969109</td>\n",
       "      <td>0.899383</td>\n",
       "      <td>...</td>\n",
       "      <td>-0.024492</td>\n",
       "      <td>-0.005896</td>\n",
       "      <td>0.059090</td>\n",
       "      <td>0.000403</td>\n",
       "      <td>-0.021274</td>\n",
       "      <td>-0.007439</td>\n",
       "      <td>0.008832</td>\n",
       "      <td>0.032634</td>\n",
       "      <td>0.455426</td>\n",
       "      <td>-0.256558</td>\n",
       "    </tr>\n",
       "    <tr>\n",
       "      <th>cons.price.idx</th>\n",
       "      <td>-0.037416</td>\n",
       "      <td>0.011985</td>\n",
       "      <td>0.126974</td>\n",
       "      <td>0.066006</td>\n",
       "      <td>-0.170472</td>\n",
       "      <td>0.765002</td>\n",
       "      <td>1.000000</td>\n",
       "      <td>0.015546</td>\n",
       "      <td>0.664338</td>\n",
       "      <td>0.484643</td>\n",
       "      <td>...</td>\n",
       "      <td>-0.070913</td>\n",
       "      <td>0.002674</td>\n",
       "      <td>0.077684</td>\n",
       "      <td>0.003943</td>\n",
       "      <td>0.001244</td>\n",
       "      <td>-0.016146</td>\n",
       "      <td>-0.003979</td>\n",
       "      <td>0.017495</td>\n",
       "      <td>0.275394</td>\n",
       "      <td>-0.064205</td>\n",
       "    </tr>\n",
       "    <tr>\n",
       "      <th>cons.conf.idx</th>\n",
       "      <td>0.128179</td>\n",
       "      <td>-0.008426</td>\n",
       "      <td>-0.015297</td>\n",
       "      <td>-0.104194</td>\n",
       "      <td>-0.022335</td>\n",
       "      <td>0.142321</td>\n",
       "      <td>0.015546</td>\n",
       "      <td>1.000000</td>\n",
       "      <td>0.229120</td>\n",
       "      <td>0.061613</td>\n",
       "      <td>...</td>\n",
       "      <td>0.076537</td>\n",
       "      <td>-0.005056</td>\n",
       "      <td>0.036028</td>\n",
       "      <td>0.019042</td>\n",
       "      <td>-0.040324</td>\n",
       "      <td>-0.026632</td>\n",
       "      <td>0.048067</td>\n",
       "      <td>0.020374</td>\n",
       "      <td>0.066764</td>\n",
       "      <td>0.096610</td>\n",
       "    </tr>\n",
       "    <tr>\n",
       "      <th>euribor3m</th>\n",
       "      <td>-0.036070</td>\n",
       "      <td>-0.030549</td>\n",
       "      <td>0.141503</td>\n",
       "      <td>0.299676</td>\n",
       "      <td>-0.441080</td>\n",
       "      <td>0.969109</td>\n",
       "      <td>0.664338</td>\n",
       "      <td>0.229120</td>\n",
       "      <td>1.000000</td>\n",
       "      <td>0.944819</td>\n",
       "      <td>...</td>\n",
       "      <td>-0.013792</td>\n",
       "      <td>-0.006779</td>\n",
       "      <td>0.058593</td>\n",
       "      <td>0.002468</td>\n",
       "      <td>-0.027324</td>\n",
       "      <td>-0.013580</td>\n",
       "      <td>0.017906</td>\n",
       "      <td>0.036322</td>\n",
       "      <td>0.474201</td>\n",
       "      <td>-0.283816</td>\n",
       "    </tr>\n",
       "    <tr>\n",
       "      <th>nr.employed</th>\n",
       "      <td>-0.063312</td>\n",
       "      <td>-0.042165</td>\n",
       "      <td>0.149157</td>\n",
       "      <td>0.375674</td>\n",
       "      <td>-0.492733</td>\n",
       "      <td>0.899383</td>\n",
       "      <td>0.484643</td>\n",
       "      <td>0.061613</td>\n",
       "      <td>0.944819</td>\n",
       "      <td>1.000000</td>\n",
       "      <td>...</td>\n",
       "      <td>-0.015154</td>\n",
       "      <td>-0.007342</td>\n",
       "      <td>0.044660</td>\n",
       "      <td>-0.003246</td>\n",
       "      <td>-0.022305</td>\n",
       "      <td>-0.003468</td>\n",
       "      <td>0.006368</td>\n",
       "      <td>0.029669</td>\n",
       "      <td>0.483251</td>\n",
       "      <td>-0.354235</td>\n",
       "    </tr>\n",
       "    <tr>\n",
       "      <th>y</th>\n",
       "      <td>0.049509</td>\n",
       "      <td>0.392781</td>\n",
       "      <td>-0.070430</td>\n",
       "      <td>-0.331982</td>\n",
       "      <td>0.234616</td>\n",
       "      <td>-0.309622</td>\n",
       "      <td>-0.130693</td>\n",
       "      <td>0.066306</td>\n",
       "      <td>-0.320579</td>\n",
       "      <td>-0.368170</td>\n",
       "      <td>...</td>\n",
       "      <td>0.041440</td>\n",
       "      <td>0.003734</td>\n",
       "      <td>-0.012092</td>\n",
       "      <td>0.004687</td>\n",
       "      <td>-0.022148</td>\n",
       "      <td>0.014765</td>\n",
       "      <td>0.008534</td>\n",
       "      <td>0.009015</td>\n",
       "      <td>-0.198008</td>\n",
       "      <td>0.323818</td>\n",
       "    </tr>\n",
       "    <tr>\n",
       "      <th>employed</th>\n",
       "      <td>0.129752</td>\n",
       "      <td>-0.006711</td>\n",
       "      <td>0.019454</td>\n",
       "      <td>0.094523</td>\n",
       "      <td>-0.081241</td>\n",
       "      <td>0.120972</td>\n",
       "      <td>0.046978</td>\n",
       "      <td>-0.030651</td>\n",
       "      <td>0.123078</td>\n",
       "      <td>0.142632</td>\n",
       "      <td>...</td>\n",
       "      <td>0.046439</td>\n",
       "      <td>0.012163</td>\n",
       "      <td>0.006006</td>\n",
       "      <td>0.007236</td>\n",
       "      <td>0.001015</td>\n",
       "      <td>-0.013526</td>\n",
       "      <td>0.003146</td>\n",
       "      <td>0.003207</td>\n",
       "      <td>0.061119</td>\n",
       "      <td>-0.086862</td>\n",
       "    </tr>\n",
       "    <tr>\n",
       "      <th>married</th>\n",
       "      <td>0.272411</td>\n",
       "      <td>-0.000324</td>\n",
       "      <td>-0.006096</td>\n",
       "      <td>0.023767</td>\n",
       "      <td>-0.032372</td>\n",
       "      <td>0.054447</td>\n",
       "      <td>0.024233</td>\n",
       "      <td>0.058194</td>\n",
       "      <td>0.066445</td>\n",
       "      <td>0.059837</td>\n",
       "      <td>...</td>\n",
       "      <td>-0.085496</td>\n",
       "      <td>-0.008384</td>\n",
       "      <td>0.007529</td>\n",
       "      <td>-0.001827</td>\n",
       "      <td>0.008747</td>\n",
       "      <td>-0.014090</td>\n",
       "      <td>-0.002067</td>\n",
       "      <td>0.000575</td>\n",
       "      <td>0.029817</td>\n",
       "      <td>-0.021692</td>\n",
       "    </tr>\n",
       "    <tr>\n",
       "      <th>university</th>\n",
       "      <td>-0.055680</td>\n",
       "      <td>-0.014160</td>\n",
       "      <td>0.003045</td>\n",
       "      <td>-0.028634</td>\n",
       "      <td>0.015514</td>\n",
       "      <td>-0.024492</td>\n",
       "      <td>-0.070913</td>\n",
       "      <td>0.076537</td>\n",
       "      <td>-0.013792</td>\n",
       "      <td>-0.015154</td>\n",
       "      <td>...</td>\n",
       "      <td>1.000000</td>\n",
       "      <td>0.006803</td>\n",
       "      <td>-0.013632</td>\n",
       "      <td>-0.009674</td>\n",
       "      <td>0.003348</td>\n",
       "      <td>0.017146</td>\n",
       "      <td>-0.012773</td>\n",
       "      <td>-0.003989</td>\n",
       "      <td>-0.005856</td>\n",
       "      <td>0.030285</td>\n",
       "    </tr>\n",
       "    <tr>\n",
       "      <th>no_default</th>\n",
       "      <td>-0.002952</td>\n",
       "      <td>0.005820</td>\n",
       "      <td>0.004247</td>\n",
       "      <td>-0.002097</td>\n",
       "      <td>-0.002462</td>\n",
       "      <td>-0.005896</td>\n",
       "      <td>0.002674</td>\n",
       "      <td>-0.005056</td>\n",
       "      <td>-0.006779</td>\n",
       "      <td>-0.007342</td>\n",
       "      <td>...</td>\n",
       "      <td>0.006803</td>\n",
       "      <td>1.000000</td>\n",
       "      <td>-0.004042</td>\n",
       "      <td>-0.004180</td>\n",
       "      <td>0.004937</td>\n",
       "      <td>0.005015</td>\n",
       "      <td>-0.019708</td>\n",
       "      <td>0.004849</td>\n",
       "      <td>0.004796</td>\n",
       "      <td>0.001993</td>\n",
       "    </tr>\n",
       "    <tr>\n",
       "      <th>no_housing</th>\n",
       "      <td>-0.001855</td>\n",
       "      <td>0.005556</td>\n",
       "      <td>0.010645</td>\n",
       "      <td>0.008941</td>\n",
       "      <td>-0.021801</td>\n",
       "      <td>0.059090</td>\n",
       "      <td>0.077684</td>\n",
       "      <td>0.036028</td>\n",
       "      <td>0.058593</td>\n",
       "      <td>0.044660</td>\n",
       "      <td>...</td>\n",
       "      <td>-0.013632</td>\n",
       "      <td>-0.004042</td>\n",
       "      <td>1.000000</td>\n",
       "      <td>0.048100</td>\n",
       "      <td>-0.007860</td>\n",
       "      <td>-0.013081</td>\n",
       "      <td>0.012802</td>\n",
       "      <td>-0.004009</td>\n",
       "      <td>0.026185</td>\n",
       "      <td>-0.010887</td>\n",
       "    </tr>\n",
       "    <tr>\n",
       "      <th>no_loan</th>\n",
       "      <td>0.010697</td>\n",
       "      <td>-0.006590</td>\n",
       "      <td>-0.007080</td>\n",
       "      <td>-0.001108</td>\n",
       "      <td>0.002590</td>\n",
       "      <td>0.000403</td>\n",
       "      <td>0.003943</td>\n",
       "      <td>0.019042</td>\n",
       "      <td>0.002468</td>\n",
       "      <td>-0.003246</td>\n",
       "      <td>...</td>\n",
       "      <td>-0.009674</td>\n",
       "      <td>-0.004180</td>\n",
       "      <td>0.048100</td>\n",
       "      <td>1.000000</td>\n",
       "      <td>-0.005963</td>\n",
       "      <td>0.004902</td>\n",
       "      <td>0.008470</td>\n",
       "      <td>0.000699</td>\n",
       "      <td>0.000043</td>\n",
       "      <td>0.002288</td>\n",
       "    </tr>\n",
       "    <tr>\n",
       "      <th>mon</th>\n",
       "      <td>0.017644</td>\n",
       "      <td>-0.024661</td>\n",
       "      <td>0.012115</td>\n",
       "      <td>0.002393</td>\n",
       "      <td>-0.002052</td>\n",
       "      <td>-0.021274</td>\n",
       "      <td>0.001244</td>\n",
       "      <td>-0.040324</td>\n",
       "      <td>-0.027324</td>\n",
       "      <td>-0.022305</td>\n",
       "      <td>...</td>\n",
       "      <td>0.003348</td>\n",
       "      <td>0.004937</td>\n",
       "      <td>-0.007860</td>\n",
       "      <td>-0.005963</td>\n",
       "      <td>1.000000</td>\n",
       "      <td>-0.262646</td>\n",
       "      <td>-0.250485</td>\n",
       "      <td>-0.253910</td>\n",
       "      <td>0.003112</td>\n",
       "      <td>-0.004489</td>\n",
       "    </tr>\n",
       "    <tr>\n",
       "      <th>thu</th>\n",
       "      <td>-0.016345</td>\n",
       "      <td>0.019383</td>\n",
       "      <td>0.010519</td>\n",
       "      <td>-0.008347</td>\n",
       "      <td>0.003481</td>\n",
       "      <td>-0.007439</td>\n",
       "      <td>-0.016146</td>\n",
       "      <td>-0.026632</td>\n",
       "      <td>-0.013580</td>\n",
       "      <td>-0.003468</td>\n",
       "      <td>...</td>\n",
       "      <td>0.017146</td>\n",
       "      <td>0.005015</td>\n",
       "      <td>-0.013081</td>\n",
       "      <td>0.004902</td>\n",
       "      <td>-0.262646</td>\n",
       "      <td>1.000000</td>\n",
       "      <td>-0.254482</td>\n",
       "      <td>-0.257962</td>\n",
       "      <td>-0.002098</td>\n",
       "      <td>0.009747</td>\n",
       "    </tr>\n",
       "    <tr>\n",
       "      <th>tue</th>\n",
       "      <td>0.017335</td>\n",
       "      <td>0.001502</td>\n",
       "      <td>-0.027307</td>\n",
       "      <td>-0.006949</td>\n",
       "      <td>0.002669</td>\n",
       "      <td>0.008832</td>\n",
       "      <td>-0.003979</td>\n",
       "      <td>0.048067</td>\n",
       "      <td>0.017906</td>\n",
       "      <td>0.006368</td>\n",
       "      <td>...</td>\n",
       "      <td>-0.012773</td>\n",
       "      <td>-0.019708</td>\n",
       "      <td>0.012802</td>\n",
       "      <td>0.008470</td>\n",
       "      <td>-0.250485</td>\n",
       "      <td>-0.254482</td>\n",
       "      <td>1.000000</td>\n",
       "      <td>-0.246018</td>\n",
       "      <td>-0.001390</td>\n",
       "      <td>0.006296</td>\n",
       "    </tr>\n",
       "    <tr>\n",
       "      <th>wed</th>\n",
       "      <td>-0.021746</td>\n",
       "      <td>0.016659</td>\n",
       "      <td>-0.021348</td>\n",
       "      <td>0.000384</td>\n",
       "      <td>-0.004924</td>\n",
       "      <td>0.032634</td>\n",
       "      <td>0.017495</td>\n",
       "      <td>0.020374</td>\n",
       "      <td>0.036322</td>\n",
       "      <td>0.029669</td>\n",
       "      <td>...</td>\n",
       "      <td>-0.003989</td>\n",
       "      <td>0.004849</td>\n",
       "      <td>-0.004009</td>\n",
       "      <td>0.000699</td>\n",
       "      <td>-0.253910</td>\n",
       "      <td>-0.257962</td>\n",
       "      <td>-0.246018</td>\n",
       "      <td>1.000000</td>\n",
       "      <td>0.007793</td>\n",
       "      <td>0.000443</td>\n",
       "    </tr>\n",
       "    <tr>\n",
       "      <th>nonexistent</th>\n",
       "      <td>-0.040143</td>\n",
       "      <td>-0.012995</td>\n",
       "      <td>0.090356</td>\n",
       "      <td>0.504749</td>\n",
       "      <td>-0.873080</td>\n",
       "      <td>0.455426</td>\n",
       "      <td>0.275394</td>\n",
       "      <td>0.066764</td>\n",
       "      <td>0.474201</td>\n",
       "      <td>0.483251</td>\n",
       "      <td>...</td>\n",
       "      <td>-0.005856</td>\n",
       "      <td>0.004796</td>\n",
       "      <td>0.026185</td>\n",
       "      <td>0.000043</td>\n",
       "      <td>0.003112</td>\n",
       "      <td>-0.002098</td>\n",
       "      <td>-0.001390</td>\n",
       "      <td>0.007793</td>\n",
       "      <td>1.000000</td>\n",
       "      <td>-0.479841</td>\n",
       "    </tr>\n",
       "    <tr>\n",
       "      <th>success</th>\n",
       "      <td>0.048523</td>\n",
       "      <td>0.047409</td>\n",
       "      <td>-0.053799</td>\n",
       "      <td>-0.951058</td>\n",
       "      <td>0.531284</td>\n",
       "      <td>-0.256558</td>\n",
       "      <td>-0.064205</td>\n",
       "      <td>0.096610</td>\n",
       "      <td>-0.283816</td>\n",
       "      <td>-0.354235</td>\n",
       "      <td>...</td>\n",
       "      <td>0.030285</td>\n",
       "      <td>0.001993</td>\n",
       "      <td>-0.010887</td>\n",
       "      <td>0.002288</td>\n",
       "      <td>-0.004489</td>\n",
       "      <td>0.009747</td>\n",
       "      <td>0.006296</td>\n",
       "      <td>0.000443</td>\n",
       "      <td>-0.479841</td>\n",
       "      <td>1.000000</td>\n",
       "    </tr>\n",
       "  </tbody>\n",
       "</table>\n",
       "<p>23 rows × 23 columns</p>\n",
       "</div>"
      ],
      "text/plain": [
       "                     age  duration  campaign     pdays  previous  \\\n",
       "age             1.000000  0.006673 -0.003552 -0.047451  0.045727   \n",
       "duration        0.006673  1.000000 -0.069414 -0.049664  0.022038   \n",
       "campaign       -0.003552 -0.069414  1.000000  0.055095 -0.081586   \n",
       "pdays          -0.047451 -0.049664  0.055095  1.000000 -0.595253   \n",
       "previous        0.045727  0.022038 -0.081586 -0.595253  1.000000   \n",
       "emp.var.rate   -0.050516 -0.024539  0.157996  0.270975 -0.403229   \n",
       "cons.price.idx -0.037416  0.011985  0.126974  0.066006 -0.170472   \n",
       "cons.conf.idx   0.128179 -0.008426 -0.015297 -0.104194 -0.022335   \n",
       "euribor3m      -0.036070 -0.030549  0.141503  0.299676 -0.441080   \n",
       "nr.employed    -0.063312 -0.042165  0.149157  0.375674 -0.492733   \n",
       "y               0.049509  0.392781 -0.070430 -0.331982  0.234616   \n",
       "employed        0.129752 -0.006711  0.019454  0.094523 -0.081241   \n",
       "married         0.272411 -0.000324 -0.006096  0.023767 -0.032372   \n",
       "university     -0.055680 -0.014160  0.003045 -0.028634  0.015514   \n",
       "no_default     -0.002952  0.005820  0.004247 -0.002097 -0.002462   \n",
       "no_housing     -0.001855  0.005556  0.010645  0.008941 -0.021801   \n",
       "no_loan         0.010697 -0.006590 -0.007080 -0.001108  0.002590   \n",
       "mon             0.017644 -0.024661  0.012115  0.002393 -0.002052   \n",
       "thu            -0.016345  0.019383  0.010519 -0.008347  0.003481   \n",
       "tue             0.017335  0.001502 -0.027307 -0.006949  0.002669   \n",
       "wed            -0.021746  0.016659 -0.021348  0.000384 -0.004924   \n",
       "nonexistent    -0.040143 -0.012995  0.090356  0.504749 -0.873080   \n",
       "success         0.048523  0.047409 -0.053799 -0.951058  0.531284   \n",
       "\n",
       "                emp.var.rate  cons.price.idx  cons.conf.idx  euribor3m  \\\n",
       "age                -0.050516       -0.037416       0.128179  -0.036070   \n",
       "duration           -0.024539        0.011985      -0.008426  -0.030549   \n",
       "campaign            0.157996        0.126974      -0.015297   0.141503   \n",
       "pdays               0.270975        0.066006      -0.104194   0.299676   \n",
       "previous           -0.403229       -0.170472      -0.022335  -0.441080   \n",
       "emp.var.rate        1.000000        0.765002       0.142321   0.969109   \n",
       "cons.price.idx      0.765002        1.000000       0.015546   0.664338   \n",
       "cons.conf.idx       0.142321        0.015546       1.000000   0.229120   \n",
       "euribor3m           0.969109        0.664338       0.229120   1.000000   \n",
       "nr.employed         0.899383        0.484643       0.061613   0.944819   \n",
       "y                  -0.309622       -0.130693       0.066306  -0.320579   \n",
       "employed            0.120972        0.046978      -0.030651   0.123078   \n",
       "married             0.054447        0.024233       0.058194   0.066445   \n",
       "university         -0.024492       -0.070913       0.076537  -0.013792   \n",
       "no_default         -0.005896        0.002674      -0.005056  -0.006779   \n",
       "no_housing          0.059090        0.077684       0.036028   0.058593   \n",
       "no_loan             0.000403        0.003943       0.019042   0.002468   \n",
       "mon                -0.021274        0.001244      -0.040324  -0.027324   \n",
       "thu                -0.007439       -0.016146      -0.026632  -0.013580   \n",
       "tue                 0.008832       -0.003979       0.048067   0.017906   \n",
       "wed                 0.032634        0.017495       0.020374   0.036322   \n",
       "nonexistent         0.455426        0.275394       0.066764   0.474201   \n",
       "success            -0.256558       -0.064205       0.096610  -0.283816   \n",
       "\n",
       "                nr.employed    ...     university  no_default  no_housing  \\\n",
       "age               -0.063312    ...      -0.055680   -0.002952   -0.001855   \n",
       "duration          -0.042165    ...      -0.014160    0.005820    0.005556   \n",
       "campaign           0.149157    ...       0.003045    0.004247    0.010645   \n",
       "pdays              0.375674    ...      -0.028634   -0.002097    0.008941   \n",
       "previous          -0.492733    ...       0.015514   -0.002462   -0.021801   \n",
       "emp.var.rate       0.899383    ...      -0.024492   -0.005896    0.059090   \n",
       "cons.price.idx     0.484643    ...      -0.070913    0.002674    0.077684   \n",
       "cons.conf.idx      0.061613    ...       0.076537   -0.005056    0.036028   \n",
       "euribor3m          0.944819    ...      -0.013792   -0.006779    0.058593   \n",
       "nr.employed        1.000000    ...      -0.015154   -0.007342    0.044660   \n",
       "y                 -0.368170    ...       0.041440    0.003734   -0.012092   \n",
       "employed           0.142632    ...       0.046439    0.012163    0.006006   \n",
       "married            0.059837    ...      -0.085496   -0.008384    0.007529   \n",
       "university        -0.015154    ...       1.000000    0.006803   -0.013632   \n",
       "no_default        -0.007342    ...       0.006803    1.000000   -0.004042   \n",
       "no_housing         0.044660    ...      -0.013632   -0.004042    1.000000   \n",
       "no_loan           -0.003246    ...      -0.009674   -0.004180    0.048100   \n",
       "mon               -0.022305    ...       0.003348    0.004937   -0.007860   \n",
       "thu               -0.003468    ...       0.017146    0.005015   -0.013081   \n",
       "tue                0.006368    ...      -0.012773   -0.019708    0.012802   \n",
       "wed                0.029669    ...      -0.003989    0.004849   -0.004009   \n",
       "nonexistent        0.483251    ...      -0.005856    0.004796    0.026185   \n",
       "success           -0.354235    ...       0.030285    0.001993   -0.010887   \n",
       "\n",
       "                 no_loan       mon       thu       tue       wed  nonexistent  \\\n",
       "age             0.010697  0.017644 -0.016345  0.017335 -0.021746    -0.040143   \n",
       "duration       -0.006590 -0.024661  0.019383  0.001502  0.016659    -0.012995   \n",
       "campaign       -0.007080  0.012115  0.010519 -0.027307 -0.021348     0.090356   \n",
       "pdays          -0.001108  0.002393 -0.008347 -0.006949  0.000384     0.504749   \n",
       "previous        0.002590 -0.002052  0.003481  0.002669 -0.004924    -0.873080   \n",
       "emp.var.rate    0.000403 -0.021274 -0.007439  0.008832  0.032634     0.455426   \n",
       "cons.price.idx  0.003943  0.001244 -0.016146 -0.003979  0.017495     0.275394   \n",
       "cons.conf.idx   0.019042 -0.040324 -0.026632  0.048067  0.020374     0.066764   \n",
       "euribor3m       0.002468 -0.027324 -0.013580  0.017906  0.036322     0.474201   \n",
       "nr.employed    -0.003246 -0.022305 -0.003468  0.006368  0.029669     0.483251   \n",
       "y               0.004687 -0.022148  0.014765  0.008534  0.009015    -0.198008   \n",
       "employed        0.007236  0.001015 -0.013526  0.003146  0.003207     0.061119   \n",
       "married        -0.001827  0.008747 -0.014090 -0.002067  0.000575     0.029817   \n",
       "university     -0.009674  0.003348  0.017146 -0.012773 -0.003989    -0.005856   \n",
       "no_default     -0.004180  0.004937  0.005015 -0.019708  0.004849     0.004796   \n",
       "no_housing      0.048100 -0.007860 -0.013081  0.012802 -0.004009     0.026185   \n",
       "no_loan         1.000000 -0.005963  0.004902  0.008470  0.000699     0.000043   \n",
       "mon            -0.005963  1.000000 -0.262646 -0.250485 -0.253910     0.003112   \n",
       "thu             0.004902 -0.262646  1.000000 -0.254482 -0.257962    -0.002098   \n",
       "tue             0.008470 -0.250485 -0.254482  1.000000 -0.246018    -0.001390   \n",
       "wed             0.000699 -0.253910 -0.257962 -0.246018  1.000000     0.007793   \n",
       "nonexistent     0.000043  0.003112 -0.002098 -0.001390  0.007793     1.000000   \n",
       "success         0.002288 -0.004489  0.009747  0.006296  0.000443    -0.479841   \n",
       "\n",
       "                 success  \n",
       "age             0.048523  \n",
       "duration        0.047409  \n",
       "campaign       -0.053799  \n",
       "pdays          -0.951058  \n",
       "previous        0.531284  \n",
       "emp.var.rate   -0.256558  \n",
       "cons.price.idx -0.064205  \n",
       "cons.conf.idx   0.096610  \n",
       "euribor3m      -0.283816  \n",
       "nr.employed    -0.354235  \n",
       "y               0.323818  \n",
       "employed       -0.086862  \n",
       "married        -0.021692  \n",
       "university      0.030285  \n",
       "no_default      0.001993  \n",
       "no_housing     -0.010887  \n",
       "no_loan         0.002288  \n",
       "mon            -0.004489  \n",
       "thu             0.009747  \n",
       "tue             0.006296  \n",
       "wed             0.000443  \n",
       "nonexistent    -0.479841  \n",
       "success         1.000000  \n",
       "\n",
       "[23 rows x 23 columns]"
      ]
     },
     "execution_count": 10,
     "metadata": {},
     "output_type": "execute_result"
    }
   ],
   "source": [
    "data2.corr()"
   ]
  },
  {
   "cell_type": "markdown",
   "metadata": {},
   "source": [
    "From the correlation matrix presented above, we can drop the variables which has a correlation value of less than .02 with y as it doenot have enough influence the outcome. There is a need to drop variable 'duration' as it is an ex-post variable and cannot be determined before the call is being made to a particular potential customer. Also the variable 'emp.var.rate' and 'nr.employed' need to be dropped as it has very high collinearity with variable related to euribor3m."
   ]
  },
  {
   "cell_type": "markdown",
   "metadata": {},
   "source": [
    "##### II.a) Dropping and separating non-scaled data into label and features"
   ]
  },
  {
   "cell_type": "code",
   "execution_count": 11,
   "metadata": {
    "collapsed": false
   },
   "outputs": [
    {
     "name": "stdout",
     "output_type": "stream",
     "text": [
      "(31828,)\n",
      "There are 4101 instances for subscription and 27727 instances for non-subscription.\n",
      "Ratio of subscription over all cases: 0.13\n"
     ]
    },
    {
     "data": {
      "text/plain": [
       "array([0, 0, 0, ..., 0, 1, 0])"
      ]
     },
     "execution_count": 11,
     "metadata": {},
     "output_type": "execute_result"
    }
   ],
   "source": [
    "# Drop some columns from dataframe\n",
    "data2 = data2.drop(['emp.var.rate','duration','month','nr.employed','contact'],axis = 1, inplace= False)\n",
    "\n",
    "# to seperate the dependent and independent variable\n",
    "y = data2['y'].as_matrix().astype(np.int)\n",
    "print(y.shape)\n",
    "\n",
    "\n",
    "print('There are {} instances for subscription and {} instances for non-subscription.'.format(y.sum(), y.shape[0] - y.sum()))\n",
    "print('Ratio of subscription over all cases: {:.2f}'.format(float(y.sum()) / y.shape[0]))\n",
    "\n",
    "y"
   ]
  },
  {
   "cell_type": "code",
   "execution_count": 12,
   "metadata": {
    "collapsed": false
   },
   "outputs": [
    {
     "data": {
      "text/plain": [
       "array([[  56.,    1.,  999., ...,    0.,    1.,    0.],\n",
       "       [  37.,    1.,  999., ...,    0.,    1.,    0.],\n",
       "       [  40.,    1.,  999., ...,    0.,    1.,    0.],\n",
       "       ..., \n",
       "       [  56.,    2.,  999., ...,    0.,    1.,    0.],\n",
       "       [  44.,    1.,  999., ...,    0.,    1.,    0.],\n",
       "       [  74.,    3.,  999., ...,    0.,    0.,    0.]])"
      ]
     },
     "execution_count": 12,
     "metadata": {},
     "output_type": "execute_result"
    }
   ],
   "source": [
    "data4 = data2.drop(['y'],axis = 1, inplace= False)\n",
    "data4.head()\n",
    "\n",
    "X = data4.as_matrix().astype(np.float)\n",
    "X.shape\n",
    "X"
   ]
  },
  {
   "cell_type": "markdown",
   "metadata": {
    "collapsed": false
   },
   "source": [
    "##### II.b)Dropping and selecting scaled data"
   ]
  },
  {
   "cell_type": "code",
   "execution_count": 30,
   "metadata": {
    "collapsed": false
   },
   "outputs": [
    {
     "data": {
      "image/png": "[encoded data removed]",
      "text/plain": [
       "<matplotlib.figure.Figure at 0x8e63470>"
      ]
     },
     "metadata": {},
     "output_type": "display_data"
    }
   ],
   "source": [
    "from pandas.tools.plotting import scatter_matrix\n",
    "\n",
    "X1 = data2[['age','cons.price.idx','euribor3m','previous']]\n",
    "ax = scatter_matrix(X1, alpha=0.6,figsize=(10, 10), diagonal='hist')"
   ]
  },
  {
   "cell_type": "code",
   "execution_count": 13,
   "metadata": {
    "collapsed": false
   },
   "outputs": [
    {
     "name": "stderr",
     "output_type": "stream",
     "text": [
      "C:\\Users\\sayan\\Anaconda3\\lib\\site-packages\\sklearn\\utils\\validation.py:498: UserWarning: StandardScaler assumes floating point values as input, got int64\n",
      "  \"got %s\" % (estimator, X.dtype))\n"
     ]
    },
    {
     "data": {
      "text/html": [
       "<div>\n",
       "<table border=\"1\" class=\"dataframe\">\n",
       "  <thead>\n",
       "    <tr style=\"text-align: right;\">\n",
       "      <th></th>\n",
       "      <th>age</th>\n",
       "      <th>campaign</th>\n",
       "      <th>pdays</th>\n",
       "      <th>previous</th>\n",
       "      <th>cons.price.idx</th>\n",
       "      <th>cons.conf.idx</th>\n",
       "      <th>euribor3m</th>\n",
       "      <th>y</th>\n",
       "      <th>employed</th>\n",
       "      <th>married</th>\n",
       "      <th>university</th>\n",
       "      <th>no_default</th>\n",
       "      <th>no_housing</th>\n",
       "      <th>no_loan</th>\n",
       "      <th>mon</th>\n",
       "      <th>thu</th>\n",
       "      <th>tue</th>\n",
       "      <th>wed</th>\n",
       "      <th>nonexistent</th>\n",
       "      <th>success</th>\n",
       "    </tr>\n",
       "  </thead>\n",
       "  <tbody>\n",
       "    <tr>\n",
       "      <th>0</th>\n",
       "      <td>1.608150</td>\n",
       "      <td>1</td>\n",
       "      <td>999</td>\n",
       "      <td>-0.373512</td>\n",
       "      <td>0.798878</td>\n",
       "      <td>-36.4</td>\n",
       "      <td>0.790167</td>\n",
       "      <td>0</td>\n",
       "      <td>1</td>\n",
       "      <td>1</td>\n",
       "      <td>0</td>\n",
       "      <td>1</td>\n",
       "      <td>1</td>\n",
       "      <td>1</td>\n",
       "      <td>1</td>\n",
       "      <td>0</td>\n",
       "      <td>0</td>\n",
       "      <td>0</td>\n",
       "      <td>1</td>\n",
       "      <td>0</td>\n",
       "    </tr>\n",
       "    <tr>\n",
       "      <th>2</th>\n",
       "      <td>-0.204943</td>\n",
       "      <td>1</td>\n",
       "      <td>999</td>\n",
       "      <td>-0.373512</td>\n",
       "      <td>0.798878</td>\n",
       "      <td>-36.4</td>\n",
       "      <td>0.790167</td>\n",
       "      <td>0</td>\n",
       "      <td>1</td>\n",
       "      <td>1</td>\n",
       "      <td>0</td>\n",
       "      <td>1</td>\n",
       "      <td>0</td>\n",
       "      <td>1</td>\n",
       "      <td>1</td>\n",
       "      <td>0</td>\n",
       "      <td>0</td>\n",
       "      <td>0</td>\n",
       "      <td>1</td>\n",
       "      <td>0</td>\n",
       "    </tr>\n",
       "    <tr>\n",
       "      <th>3</th>\n",
       "      <td>0.081335</td>\n",
       "      <td>1</td>\n",
       "      <td>999</td>\n",
       "      <td>-0.373512</td>\n",
       "      <td>0.798878</td>\n",
       "      <td>-36.4</td>\n",
       "      <td>0.790167</td>\n",
       "      <td>0</td>\n",
       "      <td>1</td>\n",
       "      <td>1</td>\n",
       "      <td>0</td>\n",
       "      <td>1</td>\n",
       "      <td>1</td>\n",
       "      <td>1</td>\n",
       "      <td>1</td>\n",
       "      <td>0</td>\n",
       "      <td>0</td>\n",
       "      <td>0</td>\n",
       "      <td>1</td>\n",
       "      <td>0</td>\n",
       "    </tr>\n",
       "    <tr>\n",
       "      <th>4</th>\n",
       "      <td>1.608150</td>\n",
       "      <td>1</td>\n",
       "      <td>999</td>\n",
       "      <td>-0.373512</td>\n",
       "      <td>0.798878</td>\n",
       "      <td>-36.4</td>\n",
       "      <td>0.790167</td>\n",
       "      <td>0</td>\n",
       "      <td>1</td>\n",
       "      <td>1</td>\n",
       "      <td>0</td>\n",
       "      <td>1</td>\n",
       "      <td>1</td>\n",
       "      <td>0</td>\n",
       "      <td>1</td>\n",
       "      <td>0</td>\n",
       "      <td>0</td>\n",
       "      <td>0</td>\n",
       "      <td>1</td>\n",
       "      <td>0</td>\n",
       "    </tr>\n",
       "    <tr>\n",
       "      <th>6</th>\n",
       "      <td>1.894428</td>\n",
       "      <td>1</td>\n",
       "      <td>999</td>\n",
       "      <td>-0.373512</td>\n",
       "      <td>0.798878</td>\n",
       "      <td>-36.4</td>\n",
       "      <td>0.790167</td>\n",
       "      <td>0</td>\n",
       "      <td>1</td>\n",
       "      <td>1</td>\n",
       "      <td>0</td>\n",
       "      <td>1</td>\n",
       "      <td>1</td>\n",
       "      <td>1</td>\n",
       "      <td>1</td>\n",
       "      <td>0</td>\n",
       "      <td>0</td>\n",
       "      <td>0</td>\n",
       "      <td>1</td>\n",
       "      <td>0</td>\n",
       "    </tr>\n",
       "  </tbody>\n",
       "</table>\n",
       "</div>"
      ],
      "text/plain": [
       "        age  campaign  pdays  previous  cons.price.idx  cons.conf.idx  \\\n",
       "0  1.608150         1    999 -0.373512        0.798878          -36.4   \n",
       "2 -0.204943         1    999 -0.373512        0.798878          -36.4   \n",
       "3  0.081335         1    999 -0.373512        0.798878          -36.4   \n",
       "4  1.608150         1    999 -0.373512        0.798878          -36.4   \n",
       "6  1.894428         1    999 -0.373512        0.798878          -36.4   \n",
       "\n",
       "   euribor3m  y  employed  married  university  no_default  no_housing  \\\n",
       "0   0.790167  0         1        1           0           1           1   \n",
       "2   0.790167  0         1        1           0           1           0   \n",
       "3   0.790167  0         1        1           0           1           1   \n",
       "4   0.790167  0         1        1           0           1           1   \n",
       "6   0.790167  0         1        1           0           1           1   \n",
       "\n",
       "   no_loan  mon  thu  tue  wed  nonexistent  success  \n",
       "0        1    1    0    0    0            1        0  \n",
       "2        1    1    0    0    0            1        0  \n",
       "3        1    1    0    0    0            1        0  \n",
       "4        0    1    0    0    0            1        0  \n",
       "6        1    1    0    0    0            1        0  "
      ]
     },
     "execution_count": 13,
     "metadata": {},
     "output_type": "execute_result"
    }
   ],
   "source": [
    "data1 = data2.copy()\n",
    "# rescaling the dataset\n",
    "from sklearn.preprocessing import StandardScaler\n",
    "standard_scaler = StandardScaler()\n",
    "\n",
    "for scaling in ('age','cons.price.idx','euribor3m','previous'):\n",
    "    data1[scaling] = standard_scaler.fit_transform(data1[scaling])\n",
    "    \n",
    "data1.head()"
   ]
  },
  {
   "cell_type": "code",
   "execution_count": 14,
   "metadata": {
    "collapsed": false
   },
   "outputs": [
    {
     "name": "stdout",
     "output_type": "stream",
     "text": [
      "(31828,)\n",
      "There are 4101 instances for subscription and 27727 instances for non-subscription.\n",
      "Ratio of subscription over all cases: 0.13\n"
     ]
    },
    {
     "data": {
      "text/plain": [
       "array([0, 0, 0, ..., 0, 1, 0])"
      ]
     },
     "execution_count": 14,
     "metadata": {},
     "output_type": "execute_result"
    }
   ],
   "source": [
    "# Drop some columns from dataframe\n",
    "#data3 = data1.drop(['emp.var.rate','day_of_week','duration','loan','housing','month','nr.employed','contact'],axis = 1, inplace= False)\n",
    "\n",
    "# to seperate the dependent and independent variable\n",
    "y1 = data2['y'].as_matrix().astype(np.int)\n",
    "print(y1.shape)\n",
    "\n",
    "\n",
    "print('There are {} instances for subscription and {} instances for non-subscription.'.format(y1.sum(), y1.shape[0] - y1.sum()))\n",
    "print('Ratio of subscription over all cases: {:.2f}'.format(float(y1.sum()) / y1.shape[0]))\n",
    "\n",
    "y1"
   ]
  },
  {
   "cell_type": "code",
   "execution_count": 15,
   "metadata": {
    "collapsed": false,
    "scrolled": true
   },
   "outputs": [
    {
     "data": {
      "text/plain": [
       "array([[  1.60814993e+00,   1.00000000e+00,   9.99000000e+02, ...,\n",
       "          0.00000000e+00,   1.00000000e+00,   0.00000000e+00],\n",
       "       [ -2.04943355e-01,   1.00000000e+00,   9.99000000e+02, ...,\n",
       "          0.00000000e+00,   1.00000000e+00,   0.00000000e+00],\n",
       "       [  8.13345328e-02,   1.00000000e+00,   9.99000000e+02, ...,\n",
       "          0.00000000e+00,   1.00000000e+00,   0.00000000e+00],\n",
       "       ..., \n",
       "       [  1.60814993e+00,   2.00000000e+00,   9.99000000e+02, ...,\n",
       "          0.00000000e+00,   1.00000000e+00,   0.00000000e+00],\n",
       "       [  4.63038383e-01,   1.00000000e+00,   9.99000000e+02, ...,\n",
       "          0.00000000e+00,   1.00000000e+00,   0.00000000e+00],\n",
       "       [  3.32581726e+00,   3.00000000e+00,   9.99000000e+02, ...,\n",
       "          0.00000000e+00,   0.00000000e+00,   0.00000000e+00]])"
      ]
     },
     "execution_count": 15,
     "metadata": {},
     "output_type": "execute_result"
    }
   ],
   "source": [
    "data3 = data1.drop(['y'],axis = 1, inplace= False)\n",
    "data3.head()\n",
    "\n",
    "X1 = data3.as_matrix().astype(np.float)\n",
    "X1.shape\n",
    "X1"
   ]
  },
  {
   "cell_type": "markdown",
   "metadata": {
    "collapsed": true
   },
   "source": [
    "### III. Model selection\n",
    "\n",
    "This project is a part of supervised learning. The following steps are followed:\n",
    "- Training and Testing of dataset: Cross-Validation,Stratified K-fold CV\n",
    "- Classifiers: Logistic Regression, Multinomial Naive Bayes, Decision Tree, Random Forest, K-Nearest Neighbor, Support Vector Classfier.\n",
    "- model evaluation metric: accuracy,precision,recall,f1-score,mean-squared error\n",
    "\n",
    "Evaluating the performance of a model by training and testing on the same dataset can lead to overfitting.Hence model evaluation is based on splitting the dataset into train and validation set.But the performance of the prediction result depends upon the random choice of the pair of (train,validation) set. Inorder to overcome such shortcomming, Cross-Validation procedure is used where a under the k-fold CV approach, the training set is split into k smaller sets, where a model is trained using k-1 of the folds as training data and the model is validated on the remaining part. Also dataset can be split according to different cross-validation strategy namely: k-fold and Stratified k-fold. Stratified k-fold is a variation of k-fold where each set contains approximately the same percentage of samples of each target class as the complete set.As the dataset for this project is highly unbalanced, i will compare different CV strategies to evaluate the performance of the model."
   ]
  },
  {
   "cell_type": "code",
   "execution_count": 16,
   "metadata": {
    "collapsed": true
   },
   "outputs": [],
   "source": [
    "from sklearn.cross_validation import StratifiedKFold,train_test_split\n",
    "from sklearn.cross_validation import cross_val_score,cross_val_predict\n",
    "from sklearn.metrics import accuracy_score,precision_score,recall_score,f1_score\n",
    "from sklearn.metrics import confusion_matrix, classification_report\n",
    "from sklearn.metrics import mean_squared_error"
   ]
  },
  {
   "cell_type": "markdown",
   "metadata": {
    "collapsed": true
   },
   "source": [
    "### A.Logistic Regression"
   ]
  },
  {
   "cell_type": "markdown",
   "metadata": {},
   "source": [
    "#### Alternative 1:"
   ]
  },
  {
   "cell_type": "code",
   "execution_count": 112,
   "metadata": {
    "collapsed": false
   },
   "outputs": [
    {
     "name": "stdout",
     "output_type": "stream",
     "text": [
      "Logistic Regression - accuracy score:0.83\n",
      "\n",
      "Logistic Regression - confusion matrix:\n",
      " [[25424  2303]\n",
      " [ 3191   910]]\n",
      "\n",
      "\n",
      "Logistic Regression - classification report:\n",
      "              precision    recall  f1-score   support\n",
      "\n",
      "          0       0.89      0.92      0.90     27727\n",
      "          1       0.28      0.22      0.25      4101\n",
      "\n",
      "avg / total       0.81      0.83      0.82     31828\n",
      "\n",
      "\n",
      "Logistic Regression - mean-squared error:\n",
      " 0.41546998360484694\n",
      "\n"
     ]
    }
   ],
   "source": [
    "from sklearn.linear_model import LogisticRegression\n",
    "logreg = LogisticRegression()\n",
    "\n",
    "y_pred = cross_val_predict(logreg,X,y,cv=10)\n",
    "print('Logistic Regression - accuracy score:{:.2f}'.format(accuracy_score(y, y_pred)))\n",
    "print(                                                                               )\n",
    "logreg_conf_matrix = confusion_matrix(y, y_pred)\n",
    "print('Logistic Regression - confusion matrix:\\n {}\\n'.format(logreg_conf_matrix))\n",
    "print(                                                                               )\n",
    "logreg_class_report = classification_report(y, y_pred)\n",
    "print('Logistic Regression - classification report:\\n {}\\n'.format(logreg_class_report))\n",
    "\n",
    "mse = mean_squared_error(y,y_pred)\n",
    "rmse = np.sqrt(mse)\n",
    "print('Logistic Regression - mean-squared error:\\n {}\\n'.format(rmse))\n",
    "\n"
   ]
  },
  {
   "cell_type": "markdown",
   "metadata": {},
   "source": [
    "#### Alternative 2:"
   ]
  },
  {
   "cell_type": "code",
   "execution_count": 113,
   "metadata": {
    "collapsed": true
   },
   "outputs": [],
   "source": [
    "def stratifiedkfold_cv(X, y, clf_class, shuffle=True, n_folds=10, **kwargs):\n",
    "    stratifiedk_fold = StratifiedKFold(y, n_folds=n_folds, shuffle=shuffle)\n",
    "    y_pred = y.copy()\n",
    "    for train_index, test_index in stratifiedk_fold:\n",
    "        X_train, X_test = X[train_index], X[test_index]\n",
    "        y_train = y[train_index]\n",
    "        clf = clf_class(**kwargs)\n",
    "        clf.fit(X_train,y_train)\n",
    "        y_pred[test_index] = clf.predict(X_test)\n",
    "    return y_pred"
   ]
  },
  {
   "cell_type": "code",
   "execution_count": 114,
   "metadata": {
    "collapsed": false
   },
   "outputs": [
    {
     "name": "stdout",
     "output_type": "stream",
     "text": [
      "Logistic Regression - accuracy score:0.88\n",
      "\n",
      "Logistic Regression - confusion matrix:\n",
      " [[27294   433]\n",
      " [ 3232   869]]\n",
      "\n",
      "\n",
      "Logistic Regression - classification report:\n",
      "              precision    recall  f1-score   support\n",
      "\n",
      "          0       0.89      0.98      0.94     27727\n",
      "          1       0.67      0.21      0.32      4101\n",
      "\n",
      "avg / total       0.86      0.88      0.86     31828\n",
      "\n",
      "\n",
      "Logistic Regression - mean-squared error:\n",
      " 0.3393378585266953\n",
      "\n"
     ]
    }
   ],
   "source": [
    "from sklearn.linear_model import LogisticRegression\n",
    "logreg = LogisticRegression\n",
    "\n",
    "y_pred = stratifiedkfold_cv(X, y,logreg)\n",
    "\n",
    "print('Logistic Regression - accuracy score:{:.2f}'.format(accuracy_score(y, y_pred)))\n",
    "print(                                                                               )\n",
    "logreg_conf_matrix = confusion_matrix(y, y_pred)\n",
    "print('Logistic Regression - confusion matrix:\\n {}\\n'.format(logreg_conf_matrix))\n",
    "print(                                                                               )\n",
    "logreg_class_report = classification_report(y, y_pred)\n",
    "print('Logistic Regression - classification report:\\n {}\\n'.format(logreg_class_report))\n",
    "\n",
    "mse = mean_squared_error(y,y_pred)\n",
    "rmse = np.sqrt(mse)\n",
    "print('Logistic Regression - mean-squared error:\\n {}\\n'.format(rmse))"
   ]
  },
  {
   "cell_type": "code",
   "execution_count": 115,
   "metadata": {
    "collapsed": false
   },
   "outputs": [
    {
     "name": "stdout",
     "output_type": "stream",
     "text": [
      "Logistic Regression - coefficient values:\n",
      " [[ 0.00766145 -0.05251121 -0.00175581  0.11341577  0.02336769  0.03576539\n",
      "  -0.49995832 -0.34066624 -0.11968877  0.21307949 -0.07254543  0.01160575\n",
      "   0.02130348 -0.13559974  0.12607068  0.10103556  0.18197862  0.65713955\n",
      "   0.25887912]]\n",
      "\n",
      "Logistic Regression - predicted probabilities:\n",
      " [[ 0.95100098  0.04899902]\n",
      " [ 0.95782705  0.04217295]\n",
      " [ 0.95640746  0.04359254]\n",
      " ..., \n",
      " [ 0.7796745   0.2203255 ]\n",
      " [ 0.81827003  0.18172997]\n",
      " [ 0.87382153  0.12617847]]\n",
      "\n"
     ]
    }
   ],
   "source": [
    "# to adjust the probability cutoff for accepting y = 1 given x = 0, \n",
    "logreg = LogisticRegression()\n",
    "logreg = logreg.fit(X,y)\n",
    "\n",
    "probs = logreg.predict_proba(X)\n",
    "\n",
    "print('Logistic Regression - coefficient values:\\n {}\\n'.format(logreg.coef_))\n",
    "\n",
    "print('Logistic Regression - predicted probabilities:\\n {}\\n'.format(logreg.predict_proba(X)))"
   ]
  },
  {
   "cell_type": "code",
   "execution_count": 116,
   "metadata": {
    "collapsed": false
   },
   "outputs": [
    {
     "name": "stdout",
     "output_type": "stream",
     "text": [
      "Logistic Regression - confusion matrix:\n",
      " [[26211  1516]\n",
      " [ 2560  1541]]\n",
      "\n",
      "\n",
      "Logistic Regression - classification report:\n",
      "              precision    recall  f1-score   support\n",
      "\n",
      "          0       0.91      0.95      0.93     27727\n",
      "          1       0.50      0.38      0.43      4101\n",
      "\n",
      "avg / total       0.86      0.87      0.86     31828\n",
      "\n",
      "\n"
     ]
    }
   ],
   "source": [
    "count = []\n",
    "for prob in probs:\n",
    "    if prob[1]> .30:\n",
    "        count.append(1)\n",
    "    else:\n",
    "        count.append(0)\n",
    "        \n",
    "predict2 = np.array(count)\n",
    "\n",
    "accuracy_score(y,predict2)\n",
    "\n",
    "logreg_conf_matrix = confusion_matrix(y, predict2)\n",
    "print('Logistic Regression - confusion matrix:\\n {}\\n'.format(logreg_conf_matrix))\n",
    "print(                                                                               )\n",
    "\n",
    "logreg_class_report = classification_report(y, predict2)\n",
    "print('Logistic Regression - classification report:\\n {}\\n'.format(logreg_class_report))"
   ]
  },
  {
   "cell_type": "markdown",
   "metadata": {},
   "source": [
    "It can be seen that an appropriate CV strategy effects the performance of the model not only interms of overall accuracy but also satisfies the objective of this study. The precision metric for class 1 labels is lot better in alternative 2 than in alternative 3.Even if there is a decrease in recall score of alternative 2 by 1 relative to alternative 1, the f1-score is still higher by 20% for alternative 2."
   ]
  },
  {
   "cell_type": "markdown",
   "metadata": {},
   "source": [
    "### B.Multinomial Naive Bayes\n",
    "\n",
    "Though Naive Bayes approach is commonly used for text-classification,i choose to try out Multinomial Naive Bayes(MNB) as from the correlation result the variables selected have low level of correlation. On the other hand MNB classifier do not consider variables with negative value. As a result of that i dropped the variable related to consumer confidence index."
   ]
  },
  {
   "cell_type": "code",
   "execution_count": 119,
   "metadata": {
    "collapsed": false
   },
   "outputs": [
    {
     "data": {
      "text/plain": [
       "array([[  56.,    1.,  999., ...,    0.,    1.,    0.],\n",
       "       [  37.,    1.,  999., ...,    0.,    1.,    0.],\n",
       "       [  40.,    1.,  999., ...,    0.,    1.,    0.],\n",
       "       ..., \n",
       "       [  56.,    2.,  999., ...,    0.,    1.,    0.],\n",
       "       [  44.,    1.,  999., ...,    0.,    1.,    0.],\n",
       "       [  74.,    3.,  999., ...,    0.,    0.,    0.]])"
      ]
     },
     "execution_count": 119,
     "metadata": {},
     "output_type": "execute_result"
    }
   ],
   "source": [
    "# Drop some columns from dataframe\n",
    "# need to drop consumer confidence index variable as variable for this classifier cannot be negative\n",
    "data4 = data2.drop(['cons.conf.idx','y'],axis = 1, inplace= False)\n",
    "data4.head()\n",
    "X = data4.as_matrix().astype(np.float)\n",
    "X.shape\n",
    "X"
   ]
  },
  {
   "cell_type": "markdown",
   "metadata": {},
   "source": [
    "#### Alternative 1:"
   ]
  },
  {
   "cell_type": "code",
   "execution_count": 120,
   "metadata": {
    "collapsed": false
   },
   "outputs": [
    {
     "name": "stdout",
     "output_type": "stream",
     "text": [
      "Multinomial NB - accuracy score:0.87\n",
      "\n",
      "Multinomial NB - confusion matrix:\n",
      " [[26612  1115]\n",
      " [ 2947  1154]]\n",
      "\n",
      "\n",
      "Multinomial NB - classification report:\n",
      "              precision    recall  f1-score   support\n",
      "\n",
      "          0       0.90      0.96      0.93     27727\n",
      "          1       0.51      0.28      0.36      4101\n",
      "\n",
      "avg / total       0.85      0.87      0.86     31828\n",
      "\n",
      "\n",
      "Multinomial NB - mean-squared error:\n",
      " 0.35724428082824733\n",
      "\n"
     ]
    }
   ],
   "source": [
    "from sklearn.naive_bayes import MultinomialNB\n",
    "mnb = MultinomialNB()\n",
    "\n",
    "y_pred = cross_val_predict(mnb,X,y,cv=10)\n",
    "print('Multinomial NB - accuracy score:{:.2f}'.format(accuracy_score(y, y_pred)))\n",
    "print(                                                                               )\n",
    "logreg_conf_matrix = confusion_matrix(y, y_pred)\n",
    "print('Multinomial NB - confusion matrix:\\n {}\\n'.format(logreg_conf_matrix))\n",
    "print(                                                                               )\n",
    "logreg_class_report = classification_report(y, y_pred)\n",
    "print('Multinomial NB - classification report:\\n {}\\n'.format(logreg_class_report))\n",
    "\n",
    "mse = mean_squared_error(y,y_pred)\n",
    "rmse = np.sqrt(mse)\n",
    "print('Multinomial NB - mean-squared error:\\n {}\\n'.format(rmse))"
   ]
  },
  {
   "cell_type": "markdown",
   "metadata": {},
   "source": [
    "#### Alternative 2:"
   ]
  },
  {
   "cell_type": "code",
   "execution_count": 121,
   "metadata": {
    "collapsed": true
   },
   "outputs": [],
   "source": [
    "def stratifiedkfold_cv(X, y, clf_class, shuffle=True, n_folds=10, **kwargs):\n",
    "    stratifiedk_fold = StratifiedKFold(y, n_folds=n_folds, shuffle=shuffle)\n",
    "    y_pred = y.copy()\n",
    "    for train_index, test_index in stratifiedk_fold:\n",
    "        X_train, X_test = X[train_index], X[test_index]\n",
    "        y_train = y[train_index]\n",
    "        clf = clf_class(**kwargs)\n",
    "        clf.fit(X_train,y_train)\n",
    "        y_pred[test_index] = clf.predict(X_test)\n",
    "    return y_pred "
   ]
  },
  {
   "cell_type": "code",
   "execution_count": 122,
   "metadata": {
    "collapsed": false
   },
   "outputs": [
    {
     "name": "stdout",
     "output_type": "stream",
     "text": [
      "Multinomial NB - accuracy score:0.88\n",
      "\n",
      "Multinomial NB - confusion matrix:\n",
      " [[26845   882]\n",
      " [ 2967  1134]]\n",
      "\n",
      "\n",
      "Multinomial NB - classification report:\n",
      "              precision    recall  f1-score   support\n",
      "\n",
      "          0       0.90      0.97      0.93     27727\n",
      "          1       0.56      0.28      0.37      4101\n",
      "\n",
      "avg / total       0.86      0.88      0.86     31828\n",
      "\n",
      "\n",
      "Multinomial NB - mean-squared error:\n",
      " 0.3477517153060548\n",
      "\n"
     ]
    }
   ],
   "source": [
    "from sklearn.naive_bayes import MultinomialNB\n",
    "mnb = MultinomialNB\n",
    "\n",
    "y_pred = stratifiedkfold_cv(X, y,mnb)\n",
    "\n",
    "print('Multinomial NB - accuracy score:{:.2f}'.format(accuracy_score(y, y_pred)))\n",
    "print(                                                                               )\n",
    "logreg_conf_matrix = confusion_matrix(y, y_pred)\n",
    "print('Multinomial NB - confusion matrix:\\n {}\\n'.format(logreg_conf_matrix))\n",
    "print(                                                                               )\n",
    "logreg_class_report = classification_report(y, y_pred)\n",
    "print('Multinomial NB - classification report:\\n {}\\n'.format(logreg_class_report))\n",
    "\n",
    "mse = mean_squared_error(y,y_pred)\n",
    "rmse = np.sqrt(mse)\n",
    "print('Multinomial NB - mean-squared error:\\n {}\\n'.format(rmse))"
   ]
  },
  {
   "cell_type": "markdown",
   "metadata": {},
   "source": [
    "Though there is no difference between the two alternatives interms of accuracy score and recall, alternative 2 has a better precision score by 10% relative to alternative 1. Hence alternative 2 will better of the two."
   ]
  },
  {
   "cell_type": "markdown",
   "metadata": {},
   "source": [
    "### Decision Tree Classifier"
   ]
  },
  {
   "cell_type": "markdown",
   "metadata": {},
   "source": [
    "#### Alternative 1"
   ]
  },
  {
   "cell_type": "code",
   "execution_count": 129,
   "metadata": {
    "collapsed": false
   },
   "outputs": [
    {
     "name": "stdout",
     "output_type": "stream",
     "text": [
      "DT - accuracy score:0.37\n",
      "\n",
      "DT - confusion matrix:\n",
      " [[11062 16665]\n",
      " [ 3529   572]]\n",
      "\n",
      "\n",
      "DT - classification report:\n",
      "              precision    recall  f1-score   support\n",
      "\n",
      "          0       0.76      0.40      0.52     27727\n",
      "          1       0.03      0.14      0.05      4101\n",
      "\n",
      "avg / total       0.66      0.37      0.46     31828\n",
      "\n",
      "\n",
      "DT - mean-squared error:\n",
      " 0.7965380036463953\n",
      "\n"
     ]
    }
   ],
   "source": [
    "from sklearn.tree import DecisionTreeClassifier\n",
    "DT = DecisionTreeClassifier(min_samples_split = 280)\n",
    "\n",
    "y_pred = cross_val_predict(DT,X,y,cv=10)\n",
    "print('DT - accuracy score:{:.2f}'.format(accuracy_score(y, y_pred)))\n",
    "print(                                                                               )\n",
    "logreg_conf_matrix = confusion_matrix(y, y_pred)\n",
    "print('DT - confusion matrix:\\n {}\\n'.format(logreg_conf_matrix))\n",
    "print(                                                                               )\n",
    "logreg_class_report = classification_report(y, y_pred)\n",
    "print('DT - classification report:\\n {}\\n'.format(logreg_class_report))\n",
    "\n",
    "mse = mean_squared_error(y,y_pred)\n",
    "rmse = np.sqrt(mse)\n",
    "print('DT - mean-squared error:\\n {}\\n'.format(rmse))"
   ]
  },
  {
   "cell_type": "markdown",
   "metadata": {},
   "source": [
    "#### Alternative 2"
   ]
  },
  {
   "cell_type": "code",
   "execution_count": 132,
   "metadata": {
    "collapsed": true
   },
   "outputs": [],
   "source": [
    "def stratifiedkfold_cv(X, y, clf_class, shuffle=True, n_folds=10, **kwargs):\n",
    "    stratifiedk_fold = StratifiedKFold(y, n_folds=n_folds, shuffle=shuffle)\n",
    "    y_pred = y.copy()\n",
    "    for train_index, test_index in stratifiedk_fold:\n",
    "        X_train, X_test = X[train_index], X[test_index]\n",
    "        y_train = y[train_index]\n",
    "        clf = clf_class(**kwargs)\n",
    "        clf.fit(X_train,y_train)\n",
    "        y_pred[test_index] = clf.predict(X_test)\n",
    "    return y_pred"
   ]
  },
  {
   "cell_type": "code",
   "execution_count": 133,
   "metadata": {
    "collapsed": false
   },
   "outputs": [
    {
     "name": "stdout",
     "output_type": "stream",
     "text": [
      "Decision Tree - accuracy score:0.89\n",
      "\n",
      "Decision Tree - confusion matrix:\n",
      " [[27161   566]\n",
      " [ 3039  1062]]\n",
      "\n",
      "\n",
      "Decision Tree - classification report:\n",
      "              precision    recall  f1-score   support\n",
      "\n",
      "          0       0.90      0.98      0.94     27727\n",
      "          1       0.65      0.26      0.37      4101\n",
      "\n",
      "avg / total       0.87      0.89      0.86     31828\n",
      "\n",
      "\n",
      "Decision Tree - mean-squared error:\n",
      " 0.33654873293748233\n",
      "\n"
     ]
    }
   ],
   "source": [
    "from sklearn.tree import DecisionTreeClassifier\n",
    "DT = DecisionTreeClassifier\n",
    "\n",
    "y_pred = stratifiedkfold_cv(X, y,DT,min_samples_split = 280)\n",
    "\n",
    "print('Decision Tree - accuracy score:{:.2f}'.format(accuracy_score(y, y_pred)))\n",
    "print(                                                                               )\n",
    "logreg_conf_matrix = confusion_matrix(y, y_pred)\n",
    "print('Decision Tree - confusion matrix:\\n {}\\n'.format(logreg_conf_matrix))\n",
    "print(                                                                               )\n",
    "logreg_class_report = classification_report(y, y_pred)\n",
    "print('Decision Tree - classification report:\\n {}\\n'.format(logreg_class_report))\n",
    "\n",
    "mse = mean_squared_error(y,y_pred)\n",
    "rmse = np.sqrt(mse)\n",
    "\n",
    "print('Decision Tree - mean-squared error:\\n {}\\n'.format(rmse))"
   ]
  },
  {
   "cell_type": "markdown",
   "metadata": {},
   "source": [
    "It seems that the performance of a decision tree model varies largely by cross-validation strategy. Alternative 2 is better in all evaluation metrics"
   ]
  },
  {
   "cell_type": "code",
   "execution_count": 134,
   "metadata": {
    "collapsed": false
   },
   "outputs": [
    {
     "name": "stdout",
     "output_type": "stream",
     "text": [
      "DT - predicted probabilities:\n",
      " [[ 0.96446701  0.03553299]\n",
      " [ 1.          0.        ]\n",
      " [ 1.          0.        ]\n",
      " ..., \n",
      " [ 0.59302326  0.40697674]\n",
      " [ 0.59302326  0.40697674]\n",
      " [ 0.59302326  0.40697674]]\n",
      "\n"
     ]
    }
   ],
   "source": [
    "# to adjust the probability cutoff for accepting y = 1 given x = 0, \n",
    "from sklearn.tree import DecisionTreeClassifier\n",
    "DT = DecisionTreeClassifier(min_samples_split = 280)\n",
    "DT = DT.fit(X,y)\n",
    "\n",
    "probs = DT.predict_proba(X)\n",
    "\n",
    "print('DT - predicted probabilities:\\n {}\\n'.format(DT.predict_proba(X)))"
   ]
  },
  {
   "cell_type": "code",
   "execution_count": 137,
   "metadata": {
    "collapsed": false
   },
   "outputs": [
    {
     "name": "stdout",
     "output_type": "stream",
     "text": [
      "DT - confusion matrix:\n",
      " [[25419  2308]\n",
      " [ 1836  2265]]\n",
      "\n",
      "\n",
      "DT - classification report:\n",
      "              precision    recall  f1-score   support\n",
      "\n",
      "          0       0.93      0.92      0.92     27727\n",
      "          1       0.50      0.55      0.52      4101\n",
      "\n",
      "avg / total       0.88      0.87      0.87     31828\n",
      "\n",
      "\n"
     ]
    }
   ],
   "source": [
    "count = []\n",
    "for prob in probs:\n",
    "    if prob[1]> .305:\n",
    "        count.append(1)\n",
    "    else:\n",
    "        count.append(0)\n",
    "        \n",
    "predict2 = np.array(count)\n",
    "\n",
    "accuracy_score(y,predict2)\n",
    "\n",
    "dt_conf_matrix = confusion_matrix(y, predict2)\n",
    "print('DT - confusion matrix:\\n {}\\n'.format(dt_conf_matrix))\n",
    "print(                                                                               )\n",
    "\n",
    "dt_class_report = classification_report(y, predict2)\n",
    "print('DT - classification report:\\n {}\\n'.format(dt_class_report))"
   ]
  },
  {
   "cell_type": "code",
   "execution_count": null,
   "metadata": {
    "collapsed": true
   },
   "outputs": [],
   "source": []
  },
  {
   "cell_type": "code",
   "execution_count": 58,
   "metadata": {
    "collapsed": false
   },
   "outputs": [],
   "source": [
    "#not getting the tree diagram\n",
    "\n",
    "from sklearn.tree import DecisionTreeClassifier\n",
    "dt = DecisionTreeClassifier()\n",
    "dt = dt.fit(X,y)\n",
    "\n",
    "from sklearn import tree\n",
    "from sklearn.externals.six import StringIO\n",
    "with open('dt.dot','w') as f:\n",
    "    f = tree.export_graphviz(dt,out_file = f)         "
   ]
  },
  {
   "cell_type": "markdown",
   "metadata": {},
   "source": [
    "### Random Forest Classifier\n",
    "\n",
    "Random Forest Classifier is based on an ensemble learning method for classification that fits a specified number of multiple decision trees and use it improve the predictive accuracy and control over-fitting.  "
   ]
  },
  {
   "cell_type": "markdown",
   "metadata": {},
   "source": [
    "#### Alternative 1"
   ]
  },
  {
   "cell_type": "code",
   "execution_count": 24,
   "metadata": {
    "collapsed": false
   },
   "outputs": [
    {
     "name": "stdout",
     "output_type": "stream",
     "text": [
      "RFC - accuracy score:0.34\n",
      "\n",
      "RFC - confusion matrix:\n",
      " [[10441 17286]\n",
      " [ 3653   448]]\n",
      "\n",
      "\n",
      "RFC - classification report:\n",
      "              precision    recall  f1-score   support\n",
      "\n",
      "          0       0.74      0.38      0.50     27727\n",
      "          1       0.03      0.11      0.04      4101\n",
      "\n",
      "avg / total       0.65      0.34      0.44     31828\n",
      "\n",
      "\n",
      "RFC - mean-squared error:\n",
      " 0.8110979313353063\n",
      "\n"
     ]
    }
   ],
   "source": [
    "from sklearn.ensemble import RandomForestClassifier\n",
    "RFC = RandomForestClassifier(n_estimators = 18)\n",
    "\n",
    "y_pred = cross_val_predict(RFC,X,y,cv=10)\n",
    "print('RFC - accuracy score:{:.2f}'.format(accuracy_score(y, y_pred)))\n",
    "print(                                                                               )\n",
    "logreg_conf_matrix = confusion_matrix(y, y_pred)\n",
    "print('RFC - confusion matrix:\\n {}\\n'.format(logreg_conf_matrix))\n",
    "print(                                                                               )\n",
    "logreg_class_report = classification_report(y, y_pred)\n",
    "print('RFC - classification report:\\n {}\\n'.format(logreg_class_report))\n",
    "\n",
    "mse = mean_squared_error(y,y_pred)\n",
    "rmse = np.sqrt(mse)\n",
    "print('RFC - mean-squared error:\\n {}\\n'.format(rmse))\n"
   ]
  },
  {
   "cell_type": "markdown",
   "metadata": {},
   "source": [
    "#### Alternative 2:\n"
   ]
  },
  {
   "cell_type": "code",
   "execution_count": 18,
   "metadata": {
    "collapsed": true
   },
   "outputs": [],
   "source": [
    "def stratifiedkfold_cv(X, y, clf_class, shuffle=True, n_folds=10, **kwargs):\n",
    "    stratifiedk_fold = StratifiedKFold(y, n_folds=n_folds, shuffle=shuffle)\n",
    "    y_pred = y.copy()\n",
    "    for train_index, test_index in stratifiedk_fold:\n",
    "        X_train, X_test = X[train_index], X[test_index]\n",
    "        y_train = y[train_index]\n",
    "        clf = clf_class(**kwargs)\n",
    "        clf.fit(X_train,y_train)\n",
    "        y_pred[test_index] = clf.predict(X_test)\n",
    "    return y_pred"
   ]
  },
  {
   "cell_type": "code",
   "execution_count": 19,
   "metadata": {
    "collapsed": false
   },
   "outputs": [
    {
     "name": "stdout",
     "output_type": "stream",
     "text": [
      "Random Forest - accuracy score:0.87\n",
      "\n",
      "Random Forest - confusion matrix:\n",
      " [[26437  1290]\n",
      " [ 2917  1184]]\n",
      "\n",
      "\n",
      "Random Forest - classification report:\n",
      "              precision    recall  f1-score   support\n",
      "\n",
      "          0       0.90      0.95      0.93     27727\n",
      "          1       0.48      0.29      0.36      4101\n",
      "\n",
      "avg / total       0.85      0.87      0.85     31828\n",
      "\n",
      "\n",
      "Random Forest - mean-squared error:\n",
      " 0.3635645929836037\n",
      "\n"
     ]
    }
   ],
   "source": [
    "from sklearn.ensemble import RandomForestClassifier\n",
    "RFC = RandomForestClassifier\n",
    "\n",
    "y_pred = stratifiedkfold_cv(X, y, RFC,random_state=1234)\n",
    "print('Random Forest - accuracy score:{:.2f}'.format(accuracy_score(y, y_pred)))\n",
    "print(                                                                               )\n",
    "logreg_conf_matrix = confusion_matrix(y, y_pred)\n",
    "print('Random Forest - confusion matrix:\\n {}\\n'.format(logreg_conf_matrix))\n",
    "print(                                                                               )\n",
    "logreg_class_report = classification_report(y, y_pred)\n",
    "print('Random Forest - classification report:\\n {}\\n'.format(logreg_class_report))\n",
    "\n",
    "mse = mean_squared_error(y,y_pred)\n",
    "rmse = np.sqrt(mse)\n",
    "print('Random Forest - mean-squared error:\\n {}\\n'.format(rmse))"
   ]
  },
  {
   "cell_type": "markdown",
   "metadata": {},
   "source": [
    "#### Alternative 3:"
   ]
  },
  {
   "cell_type": "code",
   "execution_count": 23,
   "metadata": {
    "collapsed": false
   },
   "outputs": [
    {
     "name": "stdout",
     "output_type": "stream",
     "text": [
      "Random Forest - accuracy score:0.87\n",
      "\n",
      "Random Forest - confusion matrix:\n",
      " [[26457  1270]\n",
      " [ 2895  1206]]\n",
      "\n",
      "\n",
      "Random Forest - classification report:\n",
      "              precision    recall  f1-score   support\n",
      "\n",
      "          0       0.90      0.95      0.93     27727\n",
      "          1       0.49      0.29      0.37      4101\n",
      "\n",
      "avg / total       0.85      0.87      0.85     31828\n",
      "\n",
      "\n",
      "Random Forest - mean-squared error:\n",
      " 0.36174524248422724\n",
      "\n"
     ]
    }
   ],
   "source": [
    "from sklearn.ensemble import RandomForestClassifier\n",
    "RFC = RandomForestClassifier\n",
    "\n",
    "y_pred = stratifiedkfold_cv(X, y, RFC,n_estimators = 18)\n",
    "print('Random Forest - accuracy score:{:.2f}'.format(accuracy_score(y, y_pred)))\n",
    "print(                                                                               )\n",
    "logreg_conf_matrix = confusion_matrix(y, y_pred)\n",
    "print('Random Forest - confusion matrix:\\n {}\\n'.format(logreg_conf_matrix))\n",
    "print(                                                                               )\n",
    "logreg_class_report = classification_report(y, y_pred)\n",
    "print('Random Forest - classification report:\\n {}\\n'.format(logreg_class_report))\n",
    "\n",
    "mse = mean_squared_error(y,y_pred)\n",
    "rmse = np.sqrt(mse)\n",
    "print('Random Forest - mean-squared error:\\n {}\\n'.format(rmse))"
   ]
  },
  {
   "cell_type": "markdown",
   "metadata": {},
   "source": [
    "Similar to Decion Tree model, Random Forest models are very sensitive to cross-validation techniques. And from alternative 2 and alternative 3, it seems that tuning the hyperparameter of Random Forest is more effective in reducing Type I and Type II error."
   ]
  },
  {
   "cell_type": "markdown",
   "metadata": {
    "collapsed": true
   },
   "source": [
    " ### K- Nearest Neighbor (KNN)"
   ]
  },
  {
   "cell_type": "markdown",
   "metadata": {},
   "source": [
    "#### Alternative 1"
   ]
  },
  {
   "cell_type": "code",
   "execution_count": 146,
   "metadata": {
    "collapsed": false
   },
   "outputs": [
    {
     "name": "stdout",
     "output_type": "stream",
     "text": [
      "[0.73776237318010252, 0.83240383674432861, 0.79953381875939755, 0.83765059766000527, 0.82149754106791573, 0.84261522846796066, 0.83378403794113409, 0.84827170251209016, 0.84135745643777127, 0.85012574404677521, 0.8449398718979676, 0.85329936459102007, 0.84949641866896763, 0.85505904681231171, 0.85216754649626658, 0.85801293663357092, 0.85446162212944754, 0.85848436788772153, 0.85502725472388152, 0.85964708947216018, 0.85644140038654215, 0.8603070023934325, 0.85798129264493161, 0.86121836901288495, 0.86011822452672904, 0.86294674293839635, 0.86093529107270439, 0.86366951928421365, 0.86216089582832678, 0.86423515187864752, 0.86404649249177667, 0.86577506388367576, 0.86454927153498495, 0.86649783035617389, 0.86542919163218579, 0.8668120191257469, 0.86546061840779864, 0.86700061927270133, 0.86646627522740882]\n"
     ]
    }
   ],
   "source": [
    "from sklearn.neighbors import KNeighborsClassifier\n",
    "knn = KNeighborsClassifier\n",
    "\n",
    "k_range = range(1,40)\n",
    "k_scores = []\n",
    "for k in k_range:\n",
    "    knn = KNeighborsClassifier(n_neighbors = k)\n",
    "    scores = cross_val_score(knn,X,y,cv=10,scoring='accuracy')\n",
    "    k_scores.append(scores.mean())\n",
    "print(k_scores)"
   ]
  },
  {
   "cell_type": "code",
   "execution_count": 58,
   "metadata": {
    "collapsed": false
   },
   "outputs": [
    {
     "name": "stdout",
     "output_type": "stream",
     "text": [
      "KNN - accuracy score:0.88\n",
      "\n",
      "KNN - confusion matrix:\n",
      " [[35350  1198]\n",
      " [ 3673   967]]\n",
      "\n",
      "\n",
      "KNN - classification report:\n",
      "              precision    recall  f1-score   support\n",
      "\n",
      "          0       0.91      0.97      0.94     36548\n",
      "          1       0.45      0.21      0.28      4640\n",
      "\n",
      "avg / total       0.85      0.88      0.86     41188\n",
      "\n",
      "\n",
      "KNN - mean-squared error:\n",
      " 0.3438932985062404\n",
      "\n"
     ]
    }
   ],
   "source": [
    "from sklearn.neighbors import KNeighborsClassifier\n",
    "knn = KNeighborsClassifier(n_neighbors = 38)\n",
    "y_pred = cross_val_predict(knn,X,y,cv=10)\n",
    "print('KNN - accuracy score:{:.2f}'.format(accuracy_score(y, y_pred)))\n",
    "print(                                                                               )\n",
    "logreg_conf_matrix = confusion_matrix(y, y_pred)\n",
    "print('KNN - confusion matrix:\\n {}\\n'.format(logreg_conf_matrix))\n",
    "print(                                                                               )\n",
    "logreg_class_report = classification_report(y, y_pred)\n",
    "print('KNN - classification report:\\n {}\\n'.format(logreg_class_report))\n",
    "\n",
    "mse = mean_squared_error(y,y_pred)\n",
    "rmse = np.sqrt(mse)\n",
    "print('KNN - mean-squared error:\\n {}\\n'.format(rmse))"
   ]
  },
  {
   "cell_type": "markdown",
   "metadata": {},
   "source": [
    "#### Alternative 2"
   ]
  },
  {
   "cell_type": "code",
   "execution_count": 58,
   "metadata": {
    "collapsed": true
   },
   "outputs": [],
   "source": [
    "def stratifiedkfold_cv1(X1, y1, clf_class, shuffle=True, n_folds=10, **kwargs):\n",
    "    stratifiedk_fold = StratifiedKFold(y1, n_folds=n_folds, shuffle=shuffle)\n",
    "    y_pred = y1.copy()\n",
    "    for train_index, test_index in stratifiedk_fold:\n",
    "        X_train, X_test = X1[train_index], X1[test_index]\n",
    "        y_train = y1[train_index]\n",
    "        clf = clf_class(**kwargs)\n",
    "        clf.fit(X_train,y_train)\n",
    "        y_pred[test_index] = clf.predict(X_test)\n",
    "    return y_pred"
   ]
  },
  {
   "cell_type": "code",
   "execution_count": 26,
   "metadata": {
    "collapsed": false
   },
   "outputs": [
    {
     "name": "stdout",
     "output_type": "stream",
     "text": [
      "[0.83162624104562022, 0.8730677390976499, 0.86807213774035441, 0.87847178584893804, 0.87570692472037204, 0.87950860877215031, 0.87925725776046249, 0.8815508357421139, 0.88048259394244066, 0.88340454945331159, 0.88148799798919186, 0.88324745507100666, 0.88261907754178714, 0.88375015709438232, 0.88419002136483604, 0.88519542541158724, 0.88456704788236773, 0.88563528968204097, 0.88491265552343845, 0.88513258765866532, 0.88528968204097025, 0.88601231619957266, 0.88532110091743121, 0.88513258765866532, 0.88532110091743121, 0.8856981274349629, 0.88494407439989942, 0.88563528968204097, 0.88522684428804821, 0.88604373507603373, 0.88538393867035314, 0.88519542541158724, 0.88535251979389218, 0.8860751539524947, 0.88585522181726783, 0.88591805957018976, 0.88494407439989942, 0.88503833102928242, 0.88544677642327507]\n"
     ]
    }
   ],
   "source": [
    "from sklearn.neighbors import KNeighborsClassifier\n",
    "knn = KNeighborsClassifier\n",
    "k_range = range(1,40)\n",
    "k_scores = []\n",
    "for k in k_range:\n",
    "    knn = KNeighborsClassifier\n",
    "    y1_pred = stratifiedkfold_cv1(X1, y1,knn,n_neighbors = k)\n",
    "    scores = accuracy_score(y1, y1_pred)\n",
    "    k_scores.append(scores.mean())\n",
    "print(k_scores)"
   ]
  },
  {
   "cell_type": "code",
   "execution_count": 27,
   "metadata": {
    "collapsed": false
   },
   "outputs": [
    {
     "data": {
      "text/plain": [
       "<matplotlib.text.Text at 0x8e5be48>"
      ]
     },
     "execution_count": 27,
     "metadata": {},
     "output_type": "execute_result"
    },
    {
     "data": {
      "image/png": "[encoded data removed]",
      "text/plain": [
       "<matplotlib.figure.Figure at 0x8e40be0>"
      ]
     },
     "metadata": {},
     "output_type": "display_data"
    }
   ],
   "source": [
    "plt.plot(k_range,k_scores)\n",
    "plt.xlabel('Value of K for KNN')\n",
    "plt.ylabel('Testing Accuracy')"
   ]
  },
  {
   "cell_type": "code",
   "execution_count": 28,
   "metadata": {
    "collapsed": false
   },
   "outputs": [
    {
     "name": "stdout",
     "output_type": "stream",
     "text": [
      "K-neighbor - accuracy score:0.89\n",
      "\n",
      "K-neighbor - confusion matrix:\n",
      " [[27154   573]\n",
      " [ 3067  1034]]\n",
      "\n",
      "\n",
      "K-neighbor - classification report:\n",
      "              precision    recall  f1-score   support\n",
      "\n",
      "          0       0.90      0.98      0.94     27727\n",
      "          1       0.64      0.25      0.36      4101\n",
      "\n",
      "avg / total       0.87      0.89      0.86     31828\n",
      "\n",
      "\n",
      "K-neighbor - mean-squared error:\n",
      " 0.33817851841587904\n",
      "\n"
     ]
    }
   ],
   "source": [
    "# According to the accuracy score of k with the best possible parameter\n",
    "from sklearn.neighbors import KNeighborsClassifier\n",
    "knn = KNeighborsClassifier\n",
    "y1_pred = stratifiedkfold_cv1(X1, y1,knn,n_neighbors = 28) \n",
    "print('K-neighbor - accuracy score:{:.2f}'.format(accuracy_score(y1, y1_pred)))\n",
    "print(                                                                               )\n",
    "logreg_conf_matrix = confusion_matrix(y1, y1_pred)\n",
    "print('K-neighbor - confusion matrix:\\n {}\\n'.format(logreg_conf_matrix))\n",
    "print(                                                                               )\n",
    "logreg_class_report = classification_report(y1, y1_pred)\n",
    "print('K-neighbor - classification report:\\n {}\\n'.format(logreg_class_report))\n",
    "\n",
    "mse = mean_squared_error(y1,y1_pred)\n",
    "rmse = np.sqrt(mse)\n",
    "print('K-neighbor - mean-squared error:\\n {}\\n'.format(rmse))"
   ]
  },
  {
   "cell_type": "markdown",
   "metadata": {},
   "source": [
    "Alternative 2 has a better precision score relative to alternative 1"
   ]
  },
  {
   "cell_type": "code",
   "execution_count": 59,
   "metadata": {
    "collapsed": false
   },
   "outputs": [
    {
     "name": "stdout",
     "output_type": "stream",
     "text": [
      "knn - predicted probabilities:\n",
      " [[ 0.96428571  0.03571429]\n",
      " [ 1.          0.        ]\n",
      " [ 1.          0.        ]\n",
      " ..., \n",
      " [ 0.5         0.5       ]\n",
      " [ 0.46428571  0.53571429]\n",
      " [ 0.53571429  0.46428571]]\n",
      "\n"
     ]
    }
   ],
   "source": [
    "# to adjust the probability cutoff for accepting y = 1 given x = 0, \n",
    "knn = KNeighborsClassifier(n_neighbors = 28)\n",
    "knn = knn.fit(X1,y1)\n",
    "\n",
    "probs = knn.predict_proba(X1)\n",
    "\n",
    "print('knn - predicted probabilities:\\n {}\\n'.format(knn.predict_proba(X1)))"
   ]
  },
  {
   "cell_type": "code",
   "execution_count": 62,
   "metadata": {
    "collapsed": false
   },
   "outputs": [
    {
     "name": "stdout",
     "output_type": "stream",
     "text": [
      "knn - confusion matrix:\n",
      " [[26065  1662]\n",
      " [ 2448  1653]]\n",
      "\n",
      "\n",
      "knn - classification report:\n",
      "              precision    recall  f1-score   support\n",
      "\n",
      "          0       0.91      0.94      0.93     27727\n",
      "          1       0.50      0.40      0.45      4101\n",
      "\n",
      "avg / total       0.86      0.87      0.86     31828\n",
      "\n",
      "\n"
     ]
    }
   ],
   "source": [
    "count = []\n",
    "for prob in probs:\n",
    "    if prob[1]> .33:\n",
    "        count.append(1)\n",
    "    else:\n",
    "        count.append(0)\n",
    "        \n",
    "predict2 = np.array(count)\n",
    "\n",
    "accuracy_score(y1,predict2)\n",
    "\n",
    "knn_conf_matrix = confusion_matrix(y1, predict2)\n",
    "print('knn - confusion matrix:\\n {}\\n'.format(knn_conf_matrix))\n",
    "print(                                                                               )\n",
    "\n",
    "knn_class_report = classification_report(y1, predict2)\n",
    "print('knn - classification report:\\n {}\\n'.format(knn_class_report))"
   ]
  },
  {
   "cell_type": "markdown",
   "metadata": {
    "collapsed": false
   },
   "source": [
    "##### Support Vector Classifer (SVC)"
   ]
  },
  {
   "cell_type": "markdown",
   "metadata": {
    "collapsed": false
   },
   "source": [
    "#### Alternative 1"
   ]
  },
  {
   "cell_type": "code",
   "execution_count": 86,
   "metadata": {
    "collapsed": false
   },
   "outputs": [
    {
     "name": "stdout",
     "output_type": "stream",
     "text": [
      "SVC - accuracy score:0.81\n",
      "\n",
      "SVC - confusion matrix:\n",
      " [[32555  3993]\n",
      " [ 3869   771]]\n",
      "\n",
      "\n",
      "SVC - classification report:\n",
      "              precision    recall  f1-score   support\n",
      "\n",
      "          0       0.89      0.89      0.89     36548\n",
      "          1       0.16      0.17      0.16      4640\n",
      "\n",
      "avg / total       0.81      0.81      0.81     41188\n",
      "\n",
      "\n",
      "SVC - mean-squared error:\n",
      " 0.4368991177369708\n",
      "\n"
     ]
    }
   ],
   "source": [
    "from sklearn import svm\n",
    "SVC = svm.SVC()\n",
    "y_pred = cross_val_predict(SVC,X1,y1,cv=10)\n",
    "print('SVC - accuracy score:{:.2f}'.format(accuracy_score(y1, y_pred)))\n",
    "print(                                                                               )\n",
    "logreg_conf_matrix = confusion_matrix(y1, y_pred)\n",
    "print('SVC - confusion matrix:\\n {}\\n'.format(logreg_conf_matrix))\n",
    "print(                                                                               )\n",
    "logreg_class_report = classification_report(y1, y_pred)\n",
    "print('SVC - classification report:\\n {}\\n'.format(logreg_class_report))\n",
    "\n",
    "mse = mean_squared_error(y1,y_pred)\n",
    "rmse = np.sqrt(mse)\n",
    "print('SVC - mean-squared error:\\n {}\\n'.format(rmse))"
   ]
  },
  {
   "cell_type": "markdown",
   "metadata": {},
   "source": [
    "#### Alternative 2"
   ]
  },
  {
   "cell_type": "code",
   "execution_count": 87,
   "metadata": {
    "collapsed": false
   },
   "outputs": [],
   "source": [
    "def stratifiedkfold_cv1(X1, y1, clf_class, shuffle=True, n_folds=10, **kwargs):\n",
    "    stratifiedk_fold = StratifiedKFold(y1, n_folds=n_folds, shuffle=shuffle)\n",
    "    y_pred = y1.copy()\n",
    "    for train_index, test_index in stratifiedk_fold:\n",
    "        X_train, X_test = X1[train_index], X1[test_index]\n",
    "        y_train = y1[train_index]\n",
    "        clf = clf_class(**kwargs)\n",
    "        clf.fit(X_train,y_train)\n",
    "        y_pred[test_index] = clf.predict(X_test)\n",
    "    return y_pred"
   ]
  },
  {
   "cell_type": "code",
   "execution_count": 88,
   "metadata": {
    "collapsed": false
   },
   "outputs": [
    {
     "name": "stdout",
     "output_type": "stream",
     "text": [
      "SVC - accuracy score:0.90\n",
      "\n",
      "SVC - confusion matrix:\n",
      " [[36000   548]\n",
      " [ 3673   967]]\n",
      "\n",
      "\n",
      "SVC - classification report:\n",
      "              precision    recall  f1-score   support\n",
      "\n",
      "          0       0.91      0.99      0.94     36548\n",
      "          1       0.64      0.21      0.31      4640\n",
      "\n",
      "avg / total       0.88      0.90      0.87     41188\n",
      "\n",
      "\n",
      "SVC - mean-squared error:\n",
      " 0.3201270142217528\n",
      "\n"
     ]
    }
   ],
   "source": [
    "# Estimate predicted values for support vector machines classification model with cross-validation\n",
    "from sklearn import svm\n",
    "SVC = svm.SVC\n",
    "\n",
    "y1_pred = stratifiedkfold_cv1(X1, y1,SVC,kernel = 'linear')\n",
    "print('SVC - accuracy score:{:.2f}'.format(accuracy_score(y1, y1_pred)))\n",
    "print(                                                                               )\n",
    "logreg_conf_matrix = confusion_matrix(y1, y1_pred)\n",
    "print('SVC - confusion matrix:\\n {}\\n'.format(logreg_conf_matrix))\n",
    "print(                                                                               )\n",
    "logreg_class_report = classification_report(y1, y1_pred)\n",
    "print('SVC - classification report:\\n {}\\n'.format(logreg_class_report))\n",
    "\n",
    "mse = mean_squared_error(y1,y1_pred)\n",
    "rmse = np.sqrt(mse)\n",
    "print('SVC - mean-squared error:\\n {}\\n'.format(rmse))"
   ]
  },
  {
   "cell_type": "markdown",
   "metadata": {
    "collapsed": true
   },
   "source": [
    "Alternative 2 performs better than Alternative 1 interms of precision score"
   ]
  },
  {
   "cell_type": "markdown",
   "metadata": {
    "collapsed": false
   },
   "source": [
    "### CONCLUSION"
   ]
  },
  {
   "cell_type": "markdown",
   "metadata": {
    "collapsed": true
   },
   "source": [
    "Following are the conclusions of the study:\n",
    "- In case of unbalanced data it is important to use stratified k-fold CV than default CV. The variation in accuracy and other metric scores vary widely for Tree-based models.\n",
    "- For the purpose of my study, overall accuracy was not of utmost importance. Precision and recall for classification class 1 was also important. In case of Precision metric, Logistic Regression,Decision Tree, K-Nearest Neighborhood, SVC are the best set of models to use. \n",
    "- In this study,Recall is also important to increase the subscriber base and as a result of that if some sort of balance in trade-off is required between Type I and Type II error than Decision Tree turns out to be the most appropriate model.    "
   ]
  },
  {
   "cell_type": "code",
   "execution_count": null,
   "metadata": {
    "collapsed": true
   },
   "outputs": [],
   "source": []
  },
  {
   "cell_type": "code",
   "execution_count": null,
   "metadata": {
    "collapsed": true
   },
   "outputs": [],
   "source": []
  },
  {
   "cell_type": "code",
   "execution_count": null,
   "metadata": {
    "collapsed": true
   },
   "outputs": [],
   "source": []
  },
  {
   "cell_type": "code",
   "execution_count": null,
   "metadata": {
    "collapsed": true
   },
   "outputs": [],
   "source": []
  },
  {
   "cell_type": "code",
   "execution_count": null,
   "metadata": {
    "collapsed": true
   },
   "outputs": [],
   "source": []
  }
 ],
 "metadata": {
  "kernelspec": {
   "display_name": "Python 3",
   "language": "python",
   "name": "python3"
  },
  "language_info": {
   "codemirror_mode": {
    "name": "ipython",
    "version": 3
   },
   "file_extension": ".py",
   "mimetype": "text/x-python",
   "name": "python",
   "nbconvert_exporter": "python",
   "pygments_lexer": "ipython3",
   "version": "3.4.3"
  }
 },
 "nbformat": 4,
 "nbformat_minor": 0
}
