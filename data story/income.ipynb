{
 "cells": [
  {
   "cell_type": "code",
   "execution_count": 1,
   "metadata": {
    "collapsed": true
   },
   "outputs": [],
   "source": [
    "%matplotlib inline\n",
    "import pandas as pd\n",
    "import numpy as np\n",
    "import matplotlib.pyplot as plt"
   ]
  },
  {
   "cell_type": "markdown",
   "metadata": {},
   "source": [
    "The purpose of this excercise is to explore the factors that can help us predict the chances of having average annual income of more than 50K. The relevant variables in this study are : occupation,education and age. "
   ]
  },
  {
   "cell_type": "code",
   "execution_count": 2,
   "metadata": {
    "collapsed": false
   },
   "outputs": [
    {
     "data": {
      "text/plain": [
       " White                 27816\n",
       " Black                  3124\n",
       " Asian-Pac-Islander     1039\n",
       " Amer-Indian-Eskimo      311\n",
       " Other                   271\n",
       "dtype: int64"
      ]
     },
     "execution_count": 2,
     "metadata": {},
     "output_type": "execute_result"
    }
   ],
   "source": [
    "name = ['age','workclass','fnlwgt','education','education_num','marital','occupation','relationship','race','sex','capital_gain'\n",
    "        ,'capital_loss','hours_per_week','native_country','inc_cat','cat']\n",
    "inc = pd.read_csv('adult.csv',index_col = False, names = name)\n",
    "inc.race.value_counts()"
   ]
  },
  {
   "cell_type": "code",
   "execution_count": 73,
   "metadata": {
    "collapsed": false
   },
   "outputs": [
    {
     "data": {
      "text/plain": [
       "36    898\n",
       "31    888\n",
       "dtype: int64"
      ]
     },
     "execution_count": 73,
     "metadata": {},
     "output_type": "execute_result"
    }
   ],
   "source": [
    "#inc.occupation.value_counts().head(2)\n",
    "#inc.education.value_counts().head(2)\n",
    "inc.age.value_counts().head(2)"
   ]
  },
  {
   "cell_type": "markdown",
   "metadata": {},
   "source": [
    "# TO FIND THE DISTRIBUTION OF OCCUPATION ACROSS ALL INCOME    CATEGORY"
   ]
  },
  {
   "cell_type": "code",
   "execution_count": 3,
   "metadata": {
    "collapsed": false
   },
   "outputs": [
    {
     "data": {
      "text/plain": [
       " Prof-specialty       12.714597\n",
       " Craft-repair         12.588680\n",
       " Exec-managerial      12.487331\n",
       " Adm-clerical         11.578268\n",
       " Sales                11.209729\n",
       " Other-service        10.119468\n",
       " Machine-op-inspct     6.148460\n",
       " ?                     5.660146\n",
       " Transport-moving      4.904641\n",
       " Handlers-cleaners     4.207487\n",
       " Farming-fishing       3.052732\n",
       " Tech-support          2.850035\n",
       " Protective-serv       1.993182\n",
       " Priv-house-serv       0.457603\n",
       " Armed-Forces          0.027640\n",
       "dtype: float64"
      ]
     },
     "execution_count": 3,
     "metadata": {},
     "output_type": "execute_result"
    }
   ],
   "source": [
    "occ = inc.occupation.value_counts()\n",
    "k = pd.Series(((occ/sum(occ))*100))\n",
    "k"
   ]
  },
  {
   "cell_type": "code",
   "execution_count": 4,
   "metadata": {
    "collapsed": false
   },
   "outputs": [
    {
     "data": {
      "text/plain": [
       "Prof-specialty       4140\n",
       "Craft-repair         4099\n",
       "Other-service        4093\n",
       "Exec-managerial      4066\n",
       "Adm-clerical         3770\n",
       "Sales                3650\n",
       "Machine-op-inspct    2002\n",
       "Other                1852\n",
       "Transport-moving     1597\n",
       "Handlers-cleaners    1370\n",
       "Farming-fishing       994\n",
       "Tech-support          928\n",
       "dtype: int64"
      ]
     },
     "execution_count": 4,
     "metadata": {},
     "output_type": "execute_result"
    }
   ],
   "source": [
    "# to regroup the number of categories in Occupation \n",
    "inc1 = inc.replace({'occupation':[' Prof-specialty',' Craft-repair',' Exec-managerial',' Adm-clerical',' Sales',' Other-service',' Protective-serv',\n",
    "' Priv-house-serv',' Machine-op-inspct',' ?',' Armed-Forces',' Transport-moving',\n",
    "' Handlers-cleaners',' Farming-fishing',' Tech-support']}  \n",
    ",{'occupation':['Prof-specialty','Craft-repair','Exec-managerial','Adm-clerical',\n",
    "  'Sales','Other-service','Other-service','Other-service','Machine-op-inspct',\n",
    "   'Other','Other','Transport-moving','Handlers-cleaners','Farming-fishing',\n",
    "   'Tech-support']})\n",
    "inc1.occupation.value_counts()"
   ]
  },
  {
   "cell_type": "code",
   "execution_count": 9,
   "metadata": {
    "collapsed": false
   },
   "outputs": [
    {
     "data": {
      "text/plain": [
       "<matplotlib.axes._subplots.AxesSubplot at 0x8d7d780>"
      ]
     },
     "execution_count": 9,
     "metadata": {},
     "output_type": "execute_result"
    },
    {
     "data": {
      "image/png": "[encoded data removed]",
      "text/plain": [
       "<matplotlib.figure.Figure at 0x8d26c18>"
      ]
     },
     "metadata": {},
     "output_type": "display_data"
    }
   ],
   "source": [
    "# to plot the shares of different profession in the sample \n",
    "occ = inc1.occupation.value_counts()\n",
    "k = pd.Series(((occ/sum(occ))*100), name = ' ')\n",
    "k.plot(kind = 'bar',title = 'Share of worker by occupation')"
   ]
  },
  {
   "cell_type": "code",
   "execution_count": 11,
   "metadata": {
    "collapsed": false
   },
   "outputs": [
    {
     "data": {
      "text/html": [
       "<div>\n",
       "<table border=\"1\" class=\"dataframe\">\n",
       "  <thead>\n",
       "    <tr style=\"text-align: right;\">\n",
       "      <th></th>\n",
       "      <th>0</th>\n",
       "      <th>1</th>\n",
       "    </tr>\n",
       "    <tr>\n",
       "      <th>occupation</th>\n",
       "      <th></th>\n",
       "      <th></th>\n",
       "    </tr>\n",
       "  </thead>\n",
       "  <tbody>\n",
       "    <tr>\n",
       "      <th>Adm-clerical</th>\n",
       "      <td>3263</td>\n",
       "      <td>507</td>\n",
       "    </tr>\n",
       "    <tr>\n",
       "      <th>Craft-repair</th>\n",
       "      <td>3170</td>\n",
       "      <td>929</td>\n",
       "    </tr>\n",
       "    <tr>\n",
       "      <th>Exec-managerial</th>\n",
       "      <td>2098</td>\n",
       "      <td>1968</td>\n",
       "    </tr>\n",
       "    <tr>\n",
       "      <th>Farming-fishing</th>\n",
       "      <td>879</td>\n",
       "      <td>115</td>\n",
       "    </tr>\n",
       "    <tr>\n",
       "      <th>Handlers-cleaners</th>\n",
       "      <td>1284</td>\n",
       "      <td>86</td>\n",
       "    </tr>\n",
       "    <tr>\n",
       "      <th>Machine-op-inspct</th>\n",
       "      <td>1752</td>\n",
       "      <td>250</td>\n",
       "    </tr>\n",
       "    <tr>\n",
       "      <th>Other</th>\n",
       "      <td>1660</td>\n",
       "      <td>192</td>\n",
       "    </tr>\n",
       "    <tr>\n",
       "      <th>Other-service</th>\n",
       "      <td>3744</td>\n",
       "      <td>349</td>\n",
       "    </tr>\n",
       "    <tr>\n",
       "      <th>Prof-specialty</th>\n",
       "      <td>2281</td>\n",
       "      <td>1859</td>\n",
       "    </tr>\n",
       "    <tr>\n",
       "      <th>Sales</th>\n",
       "      <td>2667</td>\n",
       "      <td>983</td>\n",
       "    </tr>\n",
       "    <tr>\n",
       "      <th>Tech-support</th>\n",
       "      <td>645</td>\n",
       "      <td>283</td>\n",
       "    </tr>\n",
       "    <tr>\n",
       "      <th>Transport-moving</th>\n",
       "      <td>1277</td>\n",
       "      <td>320</td>\n",
       "    </tr>\n",
       "  </tbody>\n",
       "</table>\n",
       "</div>"
      ],
      "text/plain": [
       "                      0     1\n",
       "occupation                   \n",
       "Adm-clerical       3263   507\n",
       "Craft-repair       3170   929\n",
       "Exec-managerial    2098  1968\n",
       "Farming-fishing     879   115\n",
       "Handlers-cleaners  1284    86\n",
       "Machine-op-inspct  1752   250\n",
       "Other              1660   192\n",
       "Other-service      3744   349\n",
       "Prof-specialty     2281  1859\n",
       "Sales              2667   983\n",
       "Tech-support        645   283\n",
       "Transport-moving   1277   320"
      ]
     },
     "execution_count": 11,
     "metadata": {},
     "output_type": "execute_result"
    }
   ],
   "source": [
    "# to group the data by occupation and then unstack it\n",
    "inc2 = inc1.groupby(['occupation']).cat.value_counts()\n",
    "inc3 = inc2.unstack('occupation').T\n",
    "inc3"
   ]
  },
  {
   "cell_type": "raw",
   "metadata": {},
   "source": []
  },
  {
   "cell_type": "markdown",
   "metadata": {},
   "source": [
    "In the following code i tried to investigate the share of different income categories across different profession. It is observed that if an individual has a profession related to either 'Executive Managerial' or 'Special Professionals' than there is a high chance of having income more than 50K"
   ]
  },
  {
   "cell_type": "code",
   "execution_count": 13,
   "metadata": {
    "collapsed": false
   },
   "outputs": [
    {
     "data": {
      "text/plain": [
       "<matplotlib.axes._subplots.AxesSubplot at 0x8e8b048>"
      ]
     },
     "execution_count": 13,
     "metadata": {},
     "output_type": "execute_result"
    },
    {
     "data": {
      "image/png": "[encoded data removed]",
      "text/plain": [
       "<matplotlib.figure.Figure at 0x8df1828>"
      ]
     },
     "metadata": {},
     "output_type": "display_data"
    }
   ],
   "source": [
    "# to calculate the share of income category (i.e. 0 and 1) by occupation\n",
    "#inc3.apply(lambda c:c/c.sum()*100,axis = 1).plot(kind = 'bar')\n",
    "\n",
    "inc3['sum'] = inc3[0] + inc3[1]\n",
    "inc3['sh_<=50k'] = np.round((inc3[0]/inc3['sum']),2)\n",
    "inc3['sh_>50k'] = 1 - inc3['sh_<=50k']\n",
    "inc3[['sh_<=50k','sh_>50k']].plot(kind = 'bar',title = 'Share of worker across income categories by occupation')"
   ]
  },
  {
   "cell_type": "markdown",
   "metadata": {},
   "source": [
    "From the above table, we see that 'Exec-manegerial' and 'Prof-speciality' are two occupation where the proportion of worker having an income over 50k relatively higher than the rest."
   ]
  },
  {
   "cell_type": "markdown",
   "metadata": {},
   "source": [
    "In the following code i tried to investigate the share of different income categories across different profession. It is observed that for occupation in 'Executive Managerial' or 'Special Professionals' the difference between the proportion of worker earning at most 50k and above 50k is the smallest.\n",
    "\n",
    "An interesting inference can be drawn to find whether the difference in the population proportion between two income categories is significant in population or not.In this case, the inference will of two proportions for paired sample.\n",
    "\n",
    "S.E(p0 - p1) = sqrt(((p0 + p1)- (p0 - p1)^2)/n) where n is the number of samples for the specific occupation category\n",
    "\n",
    "For 99%(two-tail) z = 2.57\n",
    "\n",
    "M.E of (p0 - p1): 2.57*S.E(p0 - p1)\n",
    "\n",
    "C.I: (p0 - p1) +- M.E\n",
    "\n",
    "Null Hypothesis: p0 = p1 in population\n",
    "Alternative Hypothesis: p0 not equal to p1 in population\n",
    "\n",
    "S.E_tilda(p0 - p1) =  sqrt((p0 + p1)/n)\n",
    "\n",
    "z-statistic = (p0 - p1)/S.E_tilda(p0 - p1) = (n_0 - n_1)/sqrt(n_0 + n_1)"
   ]
  },
  {
   "cell_type": "markdown",
   "metadata": {},
   "source": [
    "For occupation:'Exec-manegerial'  "
   ]
  },
  {
   "cell_type": "code",
   "execution_count": 39,
   "metadata": {
    "collapsed": false
   },
   "outputs": [
    {
     "name": "stdout",
     "output_type": "stream",
     "text": [
      "The standard error for confidence interval: 0.0156699856594\n",
      "Margin of error: 0.0307131718924\n",
      "Confidence interval: (0.0092868281075844869, 0.070713171892415577)\n"
     ]
    }
   ],
   "source": [
    "p0 = 0.52\n",
    "p1 = 0.48\n",
    "n= 4066\n",
    "SE = np.sqrt(((p0 + p1)- (p0 - p1)**2)/n)\n",
    "print('The standard error for confidence interval:',SE)\n",
    "\n",
    "ME = 2.57*SE\n",
    "print('Margin of error:',ME)\n",
    "\n",
    "CI = ((p0 - p1)-ME, (p0 - p1)+ME)\n",
    "print('Confidence interval:', CI)\n",
    "\n"
   ]
  },
  {
   "cell_type": "code",
   "execution_count": 41,
   "metadata": {
    "collapsed": false
   },
   "outputs": [
    {
     "name": "stdout",
     "output_type": "stream",
     "text": [
      "The standard error for confidence interval: 0.0156825367112\n",
      "z-statistic: 2.03872977246\n"
     ]
    }
   ],
   "source": [
    "#hypothesis testing\n",
    "SE_tilda = np.sqrt((p0 + p1)/n)\n",
    "print('The standard error for confidence interval:',SE_tilda)\n",
    "n_0 = 2098\n",
    "n_1 = 1968\n",
    "\n",
    "z1 = (n_0 - n_1)/np.sqrt(n_0 + n_1)\n",
    "print('z-statistic:', z1)"
   ]
  },
  {
   "cell_type": "markdown",
   "metadata": {},
   "source": [
    "According to the hypothesis test result at 1% level of significance(two-tail), we fail to reject Null hypothesis as z > z1. That is in the population there exists no statistically significant difference between the proportion of workers for two different income category"
   ]
  },
  {
   "cell_type": "markdown",
   "metadata": {},
   "source": [
    "For occupation:'Prof-speciality' "
   ]
  },
  {
   "cell_type": "code",
   "execution_count": 42,
   "metadata": {
    "collapsed": false
   },
   "outputs": [
    {
     "name": "stdout",
     "output_type": "stream",
     "text": [
      "The standard error for confidence interval: 0.0154638428207\n",
      "Margin of error: 0.0397420760491\n",
      "Confidence interval: (0.060257923950859722, 0.13974207604914035)\n"
     ]
    }
   ],
   "source": [
    "p0 = 0.55\n",
    "p1 = 0.45\n",
    "n= 4140\n",
    "SE = np.sqrt(((p0 + p1)- (p0 - p1)**2)/n)\n",
    "print('The standard error for confidence interval:',SE)\n",
    "\n",
    "ME = 2.57*SE\n",
    "print('Margin of error:',ME)\n",
    "\n",
    "CI = ((p0 - p1)-ME, (p0 - p1)+ME)\n",
    "print('Confidence interval:', CI)"
   ]
  },
  {
   "cell_type": "code",
   "execution_count": 43,
   "metadata": {
    "collapsed": false
   },
   "outputs": [
    {
     "name": "stdout",
     "output_type": "stream",
     "text": [
      "The standard error for confidence interval: 0.015541746804\n",
      "z-statistic: 6.55861715129\n"
     ]
    }
   ],
   "source": [
    "#hypothesis testing\n",
    "SE_tilda = np.sqrt((p0 + p1)/n)\n",
    "print('The standard error for confidence interval:',SE_tilda)\n",
    "n_0 = 2281\n",
    "n_1 = 1859\n",
    "\n",
    "z1 = (n_0 - n_1)/np.sqrt(n_0 + n_1)\n",
    "print('z-statistic:', z1)"
   ]
  },
  {
   "cell_type": "markdown",
   "metadata": {},
   "source": [
    "According to the hypothesis test result at 1% level of significance(two-tail), we reject Null hypothesis as z < z1. That is in the population there exists statistically significant difference between the proportion of workers for two different income category"
   ]
  },
  {
   "cell_type": "code",
   "execution_count": 21,
   "metadata": {
    "collapsed": false
   },
   "outputs": [
    {
     "data": {
      "image/png": "[encoded data removed]",
      "text/plain": [
       "<matplotlib.figure.Figure at 0x82cf9e8>"
      ]
     },
     "metadata": {},
     "output_type": "display_data"
    }
   ],
   "source": [
    "#to calculate the share of different profession by income category\n",
    "inc2 = inc1.groupby(['occupation']).cat.value_counts()\n",
    "inc3 = inc2.unstack('occupation').T\n",
    "inc3['perc_0']= inc3[0]/inc3[0].sum() \n",
    "inc3['perc_1']= inc3[1]/inc3[1].sum() \n",
    "\n",
    "inc4 = inc3[['perc_0','perc_1']].plot(kind = 'bar',title = 'Share of worker across occupation by income category')\n"
   ]
  },
  {
   "cell_type": "code",
   "execution_count": null,
   "metadata": {
    "collapsed": true
   },
   "outputs": [],
   "source": []
  },
  {
   "cell_type": "markdown",
   "metadata": {},
   "source": [
    "# TO FIND THE DISTRIBUTION OF EDUCATION ACROSS ALL INCOME CATEGORY"
   ]
  },
  {
   "cell_type": "code",
   "execution_count": 14,
   "metadata": {
    "collapsed": false
   },
   "outputs": [
    {
     "data": {
      "text/plain": [
       "School         15330\n",
       "College        15095\n",
       "Postcollege     2136\n",
       "dtype: int64"
      ]
     },
     "execution_count": 14,
     "metadata": {},
     "output_type": "execute_result"
    }
   ],
   "source": [
    "inc1 = inc.replace({'education':[' Preschool',' 1st-4th',' 5th-6th',' 7th-8th',' 9th',\n",
    "' 10th',' 11th',' 12th',' Prof-school',' HS-grad',' Assoc-voc',' Assoc-acdm',' Some-college',' Bachelors',' Masters',' Doctorate']}  \n",
    ",{'education':['School','School','School','School','School','School','School','School','School',\n",
    "'School','College','College','College','College','Postcollege','Postcollege']})\n",
    "inc1.education.value_counts()"
   ]
  },
  {
   "cell_type": "code",
   "execution_count": 16,
   "metadata": {
    "collapsed": false
   },
   "outputs": [
    {
     "data": {
      "text/plain": [
       "<matplotlib.axes._subplots.AxesSubplot at 0x8f82cc0>"
      ]
     },
     "execution_count": 16,
     "metadata": {},
     "output_type": "execute_result"
    },
    {
     "data": {
      "image/png": "[encoded data removed]",
      "text/plain": [
       "<matplotlib.figure.Figure at 0x8f5e860>"
      ]
     },
     "metadata": {},
     "output_type": "display_data"
    }
   ],
   "source": [
    "edu = inc1.education.value_counts()\n",
    "k = pd.Series(((edu/sum(edu))*100))\n",
    "k.plot(kind = 'bar', title = 'Share of worker by educational background')"
   ]
  },
  {
   "cell_type": "code",
   "execution_count": 17,
   "metadata": {
    "collapsed": false
   },
   "outputs": [
    {
     "data": {
      "text/html": [
       "<div>\n",
       "<table border=\"1\" class=\"dataframe\">\n",
       "  <thead>\n",
       "    <tr style=\"text-align: right;\">\n",
       "      <th></th>\n",
       "      <th>0</th>\n",
       "      <th>1</th>\n",
       "    </tr>\n",
       "    <tr>\n",
       "      <th>education</th>\n",
       "      <th></th>\n",
       "      <th></th>\n",
       "    </tr>\n",
       "  </thead>\n",
       "  <tbody>\n",
       "    <tr>\n",
       "      <th>College</th>\n",
       "      <td>10861</td>\n",
       "      <td>4234</td>\n",
       "    </tr>\n",
       "    <tr>\n",
       "      <th>Postcollege</th>\n",
       "      <td>871</td>\n",
       "      <td>1265</td>\n",
       "    </tr>\n",
       "    <tr>\n",
       "      <th>School</th>\n",
       "      <td>12988</td>\n",
       "      <td>2342</td>\n",
       "    </tr>\n",
       "  </tbody>\n",
       "</table>\n",
       "</div>"
      ],
      "text/plain": [
       "                 0     1\n",
       "education               \n",
       "College      10861  4234\n",
       "Postcollege    871  1265\n",
       "School       12988  2342"
      ]
     },
     "execution_count": 17,
     "metadata": {},
     "output_type": "execute_result"
    }
   ],
   "source": [
    "inc2 = inc1.groupby(['education']).cat.value_counts()\n",
    "inc3 = inc2.unstack('education').T\n",
    "inc3"
   ]
  },
  {
   "cell_type": "raw",
   "metadata": {},
   "source": [
    "# In the following code i tried to investigate the role of education on income by income category. I observe that if an individual has a post college degree i.e. masters or doctorate then the chances of income being above 50K is higher with respective to an individual who had either a school or college degree."
   ]
  },
  {
   "cell_type": "code",
   "execution_count": 19,
   "metadata": {
    "collapsed": false
   },
   "outputs": [
    {
     "data": {
      "text/plain": [
       "<matplotlib.axes._subplots.AxesSubplot at 0x86c6ba8>"
      ]
     },
     "execution_count": 19,
     "metadata": {},
     "output_type": "execute_result"
    },
    {
     "data": {
      "image/png": "[encoded data removed]",
      "text/plain": [
       "<matplotlib.figure.Figure at 0x891d898>"
      ]
     },
     "metadata": {},
     "output_type": "display_data"
    }
   ],
   "source": [
    "# to calculate the share of income category (i.e. 0 and 1) by education\n",
    "#inc3.apply(lambda c:c/c.sum()*100,axis = 1).plot(kind = 'bar')\n",
    "inc3['sum'] = inc3[0] + inc3[1]\n",
    "inc3['sh_<=50k'] = np.round((inc3[0]/inc3['sum']),2)\n",
    "inc3['sh_>50k'] = 1 - inc3['sh_<=50k']\n",
    "inc3[['sh_<=50k','sh_>50k']].plot(kind = 'bar', title = 'Share of worker across income categories by occupation')"
   ]
  },
  {
   "cell_type": "markdown",
   "metadata": {},
   "source": [
    "Null hypothesis: At the population level,there is no statistically significant difference in the proportion of worker earning >50k with educational qualification as school or college \n",
    "\n",
    "Alternative hypothesis: At the population level,there exists a statistically significant difference in the proportion of worker earning >50k with educational qualification as school or college\n",
    "\n",
    "Compute margin of error, confidence interval\n",
    "\n",
    "Margin of error: z(alpha = 1%)*SE\n",
    "\n",
    "SE = sqrt((p_b_call(1-p_b_call)/n_b + (p_w_call(1-p_w_call)/n_w)\n",
    "\n",
    "z(alpha = 1%) = 2.57 (two-tail test)\n",
    "\n",
    "CI = ((p_w_call - p_b_call)- me,(p_w_call - p_b_call)+ me)"
   ]
  },
  {
   "cell_type": "code",
   "execution_count": 55,
   "metadata": {
    "collapsed": false
   },
   "outputs": [
    {
     "name": "stdout",
     "output_type": "stream",
     "text": [
      "Standard error: 0.00465536691796\n",
      "Margin of Error: 0.0119642929792\n",
      "Confidence Interval: (0.11803570702083184, 0.14196429297916824)\n"
     ]
    }
   ],
   "source": [
    "n_s = 15330\n",
    "n_c = 15095\n",
    "p_s = 0.15\n",
    "p_c = 0.28\n",
    "\n",
    "SE = np.sqrt(p_s*(1-p_s)/n_s + p_c*(1-p_c)/n_c)\n",
    "print('Standard error:', SE)\n",
    "           \n",
    "ME = 2.57*SE\n",
    "print('Margin of Error:', ME)\n",
    "           \n",
    "CI = ((p_c - p_s) - ME,(p_c - p_s) + ME )    \n",
    "print('Confidence Interval:',CI)\n",
    "           "
   ]
  },
  {
   "cell_type": "code",
   "execution_count": 56,
   "metadata": {
    "collapsed": false
   },
   "outputs": [
    {
     "name": "stdout",
     "output_type": "stream",
     "text": [
      "Standard Error is: 0.0047\n",
      "Z-statistic: 27.54\n"
     ]
    }
   ],
   "source": [
    "p = (2342+4234)/(15330+15095)\n",
    "\n",
    "SE_tilda = np.sqrt(p*(1-p)/n_s + p*(1-p)/n_c)\n",
    "print('Standard Error is:',round(SE_tilda,4))\n",
    "\n",
    "z1 = (p_c - p_s)/SE_tilda\n",
    "print('Z-statistic:',round(z1,2))"
   ]
  },
  {
   "cell_type": "markdown",
   "metadata": {},
   "source": [
    "According to the hypothesis test result at 1% level of significance(two-tail), we reject Null hypothesis as z < z1. That is in the population there exists statistically significant difference between the proportion of workers with different educational background who earns more than 50k"
   ]
  },
  {
   "cell_type": "raw",
   "metadata": {},
   "source": []
  },
  {
   "cell_type": "markdown",
   "metadata": {},
   "source": [
    "In the following code i tried to investigate the role of education on income by income category. I observe that if an individual belongs to the income category of more than 50K then there is a high chance that he had either a college degree or a post college degree"
   ]
  },
  {
   "cell_type": "code",
   "execution_count": 20,
   "metadata": {
    "collapsed": false
   },
   "outputs": [
    {
     "data": {
      "image/png": "[encoded data removed]",
      "text/plain": [
       "<matplotlib.figure.Figure at 0x89175f8>"
      ]
     },
     "metadata": {},
     "output_type": "display_data"
    }
   ],
   "source": [
    "#to calculate the share of different profession by income category\n",
    "inc2 = inc1.groupby(['education']).cat.value_counts()\n",
    "inc3 = inc2.unstack('education').T\n",
    "inc3['perc_0']= inc3[0]/inc3[0].sum() \n",
    "inc3['perc_1']= inc3[1]/inc3[1].sum() \n",
    "\n",
    "inc4 = inc3[['perc_0','perc_1']].plot(kind = 'bar',title = 'Share of worker across occupation by income category ')"
   ]
  },
  {
   "cell_type": "code",
   "execution_count": null,
   "metadata": {
    "collapsed": false
   },
   "outputs": [],
   "source": []
  },
  {
   "cell_type": "markdown",
   "metadata": {},
   "source": [
    "# TO FIND THE DISTRIBUTION OF AGE ACROSS ALL INCOME CATEGORY"
   ]
  },
  {
   "cell_type": "code",
   "execution_count": 22,
   "metadata": {
    "collapsed": false
   },
   "outputs": [
    {
     "data": {
      "text/plain": [
       "<matplotlib.axes._subplots.AxesSubplot at 0x83f6e80>"
      ]
     },
     "execution_count": 22,
     "metadata": {},
     "output_type": "execute_result"
    },
    {
     "data": {
      "image/png": "[encoded data removed]",
      "text/plain": [
       "<matplotlib.figure.Figure at 0x86aa978>"
      ]
     },
     "metadata": {},
     "output_type": "display_data"
    }
   ],
   "source": [
    "age = inc.age.value_counts()\n",
    "k = pd.Series(((age/sum(age))*100)).sort_index()\n",
    "k.plot(title = 'Distribution of workers by age')"
   ]
  },
  {
   "cell_type": "code",
   "execution_count": 23,
   "metadata": {
    "collapsed": false
   },
   "outputs": [
    {
     "data": {
      "text/html": [
       "<div>\n",
       "<table border=\"1\" class=\"dataframe\">\n",
       "  <thead>\n",
       "    <tr style=\"text-align: right;\">\n",
       "      <th></th>\n",
       "      <th>0</th>\n",
       "      <th>1</th>\n",
       "    </tr>\n",
       "    <tr>\n",
       "      <th>age</th>\n",
       "      <th></th>\n",
       "      <th></th>\n",
       "    </tr>\n",
       "  </thead>\n",
       "  <tbody>\n",
       "    <tr>\n",
       "      <th>17</th>\n",
       "      <td>395</td>\n",
       "      <td>NaN</td>\n",
       "    </tr>\n",
       "    <tr>\n",
       "      <th>18</th>\n",
       "      <td>550</td>\n",
       "      <td>NaN</td>\n",
       "    </tr>\n",
       "    <tr>\n",
       "      <th>19</th>\n",
       "      <td>710</td>\n",
       "      <td>2</td>\n",
       "    </tr>\n",
       "    <tr>\n",
       "      <th>20</th>\n",
       "      <td>753</td>\n",
       "      <td>NaN</td>\n",
       "    </tr>\n",
       "    <tr>\n",
       "      <th>21</th>\n",
       "      <td>717</td>\n",
       "      <td>3</td>\n",
       "    </tr>\n",
       "  </tbody>\n",
       "</table>\n",
       "</div>"
      ],
      "text/plain": [
       "       0   1\n",
       "age         \n",
       "17   395 NaN\n",
       "18   550 NaN\n",
       "19   710   2\n",
       "20   753 NaN\n",
       "21   717   3"
      ]
     },
     "execution_count": 23,
     "metadata": {},
     "output_type": "execute_result"
    }
   ],
   "source": [
    "inc1 = inc.groupby(['age']).cat.value_counts()\n",
    "inc2 = inc1.unstack('age').T\n",
    "inc2.head()"
   ]
  },
  {
   "cell_type": "raw",
   "metadata": {},
   "source": []
  },
  {
   "cell_type": "markdown",
   "metadata": {},
   "source": [
    "In the following code, i tried to investigate the relationship between age and income being greater or less than 50K. As there are only two income categories, the share of one income category will be a mirror image of another. If an individual is between age 20 and 50, then an increase in age will result in higher chances of belonging to the category of income more than 50K. But after the age of 50, the chances of being in the higher income category will continue to fall."
   ]
  },
  {
   "cell_type": "code",
   "execution_count": 24,
   "metadata": {
    "collapsed": false
   },
   "outputs": [
    {
     "data": {
      "text/plain": [
       "<matplotlib.axes._subplots.AxesSubplot at 0x83aee48>"
      ]
     },
     "execution_count": 24,
     "metadata": {},
     "output_type": "execute_result"
    },
    {
     "data": {
      "image/png": "[encoded data removed]",
      "text/plain": [
       "<matplotlib.figure.Figure at 0x8416d68>"
      ]
     },
     "metadata": {},
     "output_type": "display_data"
    }
   ],
   "source": [
    "# to calculate the share of income category (i.e. 0 and 1) by age\n",
    "inc2.apply(lambda c:c/c.sum()*100,axis = 1).plot(title = 'Distribution of worker across income categories by age')"
   ]
  },
  {
   "cell_type": "code",
   "execution_count": null,
   "metadata": {
    "collapsed": true
   },
   "outputs": [],
   "source": []
  },
  {
   "cell_type": "markdown",
   "metadata": {},
   "source": [
    "In the following code, i tried to investigate the relationship between age and income being greater or less than 50K.If an individual belong to income category of less than equal to 50k then the higher chances that the age will be between 20 and mid-30. But an individual with income more than 50K, there is a high chance that the age of the individual will above mid-30 and 65."
   ]
  },
  {
   "cell_type": "code",
   "execution_count": 25,
   "metadata": {
    "collapsed": false
   },
   "outputs": [
    {
     "data": {
      "image/png": "[encoded data removed]",
      "text/plain": [
       "<matplotlib.figure.Figure at 0x8422e48>"
      ]
     },
     "metadata": {},
     "output_type": "display_data"
    }
   ],
   "source": [
    "#to calculate the share of different age by income category\n",
    "inc1 = inc.groupby(['age']).cat.value_counts()\n",
    "inc2 = inc1.unstack('age').T\n",
    "inc2['perc_0']= inc2[0]/inc2[0].sum() \n",
    "inc2['perc_1']= inc2[1]/inc2[1].sum() \n",
    "\n",
    "inc3 = inc2[['perc_0','perc_1']].plot(title = 'Distribution of worker across age by income category')"
   ]
  },
  {
   "cell_type": "code",
   "execution_count": null,
   "metadata": {
    "collapsed": false
   },
   "outputs": [],
   "source": []
  },
  {
   "cell_type": "code",
   "execution_count": null,
   "metadata": {
    "collapsed": true
   },
   "outputs": [],
   "source": []
  },
  {
   "cell_type": "code",
   "execution_count": null,
   "metadata": {
    "collapsed": true
   },
   "outputs": [],
   "source": []
  },
  {
   "cell_type": "code",
   "execution_count": null,
   "metadata": {
    "collapsed": false
   },
   "outputs": [],
   "source": []
  },
  {
   "cell_type": "code",
   "execution_count": null,
   "metadata": {
    "collapsed": true
   },
   "outputs": [],
   "source": []
  }
 ],
 "metadata": {
  "kernelspec": {
   "display_name": "Python 3",
   "language": "python",
   "name": "python3"
  },
  "language_info": {
   "codemirror_mode": {
    "name": "ipython",
    "version": 3
   },
   "file_extension": ".py",
   "mimetype": "text/x-python",
   "name": "python",
   "nbconvert_exporter": "python",
   "pygments_lexer": "ipython3",
   "version": "3.4.3"
  }
 },
 "nbformat": 4,
 "nbformat_minor": 0
}
